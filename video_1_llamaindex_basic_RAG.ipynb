{
 "cells": [
  {
   "cell_type": "markdown",
   "id": "c5fb0b9e-f9cd-404f-bd8d-0273e94ac1fe",
   "metadata": {},
   "source": [
    "# RAG Example Using NVIDIA API Catalog and LlamaIndex"
   ]
  },
  {
   "cell_type": "markdown",
   "id": "2969cdab-82fc-4ce5-bde1-b4f629691f27",
   "metadata": {},
   "source": [
    "This notebook introduces how to use LlamaIndex to interact with NVIDIA hosted NIM microservices like chat, embedding, and reranking models to build a simple retrieval-augmented generation (RAG) application.\n",
    "\n",
    "Alternatively, for a more interactive experience with a graphical user interface, you can refer to our [code](https://github.com/jayrodge/llm-assistant-cloud-app/) and [YouTube video](https://www.youtube.com/watch?v=09uDCmLzYHA) for Gradio-based RAG Q&A reference application that also uses NVIDIA hosted NIM microservices."
   ]
  },
  {
   "cell_type": "markdown",
   "id": "e4253bd0-4313-4056-95f5-899a180879c2",
   "metadata": {},
   "source": [
    "## Terminology"
   ]
  },
  {
   "attachments": {},
   "cell_type": "markdown",
   "id": "5a084a00-b65d-483a-a7c6-b4c12e4272dd",
   "metadata": {},
   "source": [
    "#### RAG\n",
    "\n",
    "- RAG is a technique for augmenting LLM knowledge with additional data.\n",
    "- LLMs can reason about wide-ranging topics, but their knowledge is limited to the public data up to a specific point in time that they were trained on.\n",
    "- If you want to build AI applications that can reason about private data or data introduced after a model's cutoff date, you need to augment the knowledge of the model with the specific information it needs.\n",
    "- The process of bringing the appropriate information and inserting it into the model prompt is known as retrieval augmented generation (RAG).\n",
    "\n",
    "The preceding summary of RAG originates in the LangChain v0.2 tutorial [Build a RAG App](https://python.langchain.com/v0.2/docs/tutorials/rag/) tutorial in the LangChain v0.2 documentation.\n",
    "\n",
    "For comprehensive information, refer to the LLamaIndex documentation for [Building an LLM Application](https://docs.llamaindex.ai/en/stable/understanding/#:~:text=on%20your%20machine.-,Building%20a%20RAG%20pipeline,-%3A%20Retrieval%2DAugmented%20Generation).\n",
    "\n",
    "#### NIM\n",
    "\n",
    "- [NIM microservices](https://developer.nvidia.com/blog/nvidia-nim-offers-optimized-inference-microservices-for-deploying-ai-models-at-scale/) are containerized microservices that simplify the deployment of generative AI models like LLMs and are optimized to run on NVIDIA GPUs. \n",
    "- NIM microservices support models across domains like chat, embedding, reranking, and more from both the community and NVIDIA.\n",
    "\n",
    "#### NVIDIA API Catalog\n",
    "\n",
    "- [NVIDIA API Catalog](https://build.nvidia.com/explore/discover) is a hosted platform for accessing a wide range of microservices online.\n",
    "- You can test models on the catalog and then export them with an NVIDIA AI Enterprise license for on-premises or cloud deployment\n",
    "\n",
    "#### LlamaIndex Concepts\n",
    "\n",
    " - `Data connectors` ingest your existing data from their native source and format.\n",
    " - `Data indexes` structure your data in intermediate representations that are easy and performant for LLMs to consume.\n",
    " - `Engines` provide natural language access to your data for building context-augmented LLM apps.\n",
    "\n",
    "LlamaIndex also provides integrations like `llms-nvidia`, `embeddings-nvidia` & `nvidia-rerank` to work with NVIDIA microservices."
   ]
  },
  {
   "cell_type": "markdown",
   "id": "ca300278-5ff4-47c4-ab70-c6584ef73c9f",
   "metadata": {},
   "source": [
    "## Installation and Requirements\n",
    "\n",
    "Create a Python environment (preferably with Conda) using Python version 3.10.14. \n",
    "To install Jupyter Lab, refer to the [installation](https://jupyter.org/install) page."
   ]
  },
  {
   "cell_type": "markdown",
   "id": "1b7a52a0-7e5e-4064-9665-cb947d600f84",
   "metadata": {},
   "source": [
    "## Getting Started!"
   ]
  },
  {
   "cell_type": "code",
   "execution_count": 3,
   "id": "36287c2e-8708-4006-8adf-851f06cce02d",
   "metadata": {},
   "outputs": [
    {
     "name": "stdout",
     "output_type": "stream",
     "text": [
      "Requirement already satisfied: pip in ./venv/lib/python3.9/site-packages (24.2)\n",
      "Collecting llama-index-core==0.10.50\n",
      "  Using cached llama_index_core-0.10.50-py3-none-any.whl.metadata (2.4 kB)\n",
      "Requirement already satisfied: PyYAML>=6.0.1 in ./venv/lib/python3.9/site-packages (from llama-index-core==0.10.50) (6.0.2)\n",
      "Requirement already satisfied: SQLAlchemy>=1.4.49 in ./venv/lib/python3.9/site-packages (from SQLAlchemy[asyncio]>=1.4.49->llama-index-core==0.10.50) (2.0.35)\n",
      "Requirement already satisfied: aiohttp<4.0.0,>=3.8.6 in ./venv/lib/python3.9/site-packages (from llama-index-core==0.10.50) (3.10.10)\n",
      "Requirement already satisfied: dataclasses-json in ./venv/lib/python3.9/site-packages (from llama-index-core==0.10.50) (0.6.7)\n",
      "Requirement already satisfied: deprecated>=1.2.9.3 in ./venv/lib/python3.9/site-packages (from llama-index-core==0.10.50) (1.2.14)\n",
      "Requirement already satisfied: dirtyjson<2.0.0,>=1.0.8 in ./venv/lib/python3.9/site-packages (from llama-index-core==0.10.50) (1.0.8)\n",
      "Requirement already satisfied: fsspec>=2023.5.0 in ./venv/lib/python3.9/site-packages (from llama-index-core==0.10.50) (2024.9.0)\n",
      "Requirement already satisfied: httpx in ./venv/lib/python3.9/site-packages (from llama-index-core==0.10.50) (0.27.2)\n",
      "Requirement already satisfied: llama-cloud<0.0.7,>=0.0.6 in ./venv/lib/python3.9/site-packages (from llama-index-core==0.10.50) (0.0.6)\n",
      "Requirement already satisfied: nest-asyncio<2.0.0,>=1.5.8 in ./venv/lib/python3.9/site-packages (from llama-index-core==0.10.50) (1.6.0)\n",
      "Requirement already satisfied: networkx>=3.0 in ./venv/lib/python3.9/site-packages (from llama-index-core==0.10.50) (3.2.1)\n",
      "Requirement already satisfied: nltk<4.0.0,>=3.8.1 in ./venv/lib/python3.9/site-packages (from llama-index-core==0.10.50) (3.9.1)\n",
      "Requirement already satisfied: numpy<2.0.0 in ./venv/lib/python3.9/site-packages (from llama-index-core==0.10.50) (1.26.4)\n",
      "Requirement already satisfied: openai>=1.1.0 in ./venv/lib/python3.9/site-packages (from llama-index-core==0.10.50) (1.51.2)\n",
      "Requirement already satisfied: pandas in ./venv/lib/python3.9/site-packages (from llama-index-core==0.10.50) (2.2.3)\n",
      "Requirement already satisfied: pillow>=9.0.0 in ./venv/lib/python3.9/site-packages (from llama-index-core==0.10.50) (10.4.0)\n",
      "Requirement already satisfied: requests>=2.31.0 in ./venv/lib/python3.9/site-packages (from llama-index-core==0.10.50) (2.32.3)\n",
      "Requirement already satisfied: tenacity!=8.4.0,<9.0.0,>=8.2.0 in ./venv/lib/python3.9/site-packages (from llama-index-core==0.10.50) (8.5.0)\n",
      "Requirement already satisfied: tiktoken>=0.3.3 in ./venv/lib/python3.9/site-packages (from llama-index-core==0.10.50) (0.8.0)\n",
      "Requirement already satisfied: tqdm<5.0.0,>=4.66.1 in ./venv/lib/python3.9/site-packages (from llama-index-core==0.10.50) (4.66.5)\n",
      "Requirement already satisfied: typing-extensions>=4.5.0 in ./venv/lib/python3.9/site-packages (from llama-index-core==0.10.50) (4.12.2)\n",
      "Requirement already satisfied: typing-inspect>=0.8.0 in ./venv/lib/python3.9/site-packages (from llama-index-core==0.10.50) (0.9.0)\n",
      "Requirement already satisfied: wrapt in ./venv/lib/python3.9/site-packages (from llama-index-core==0.10.50) (1.16.0)\n",
      "Requirement already satisfied: aiohappyeyeballs>=2.3.0 in ./venv/lib/python3.9/site-packages (from aiohttp<4.0.0,>=3.8.6->llama-index-core==0.10.50) (2.4.3)\n",
      "Requirement already satisfied: aiosignal>=1.1.2 in ./venv/lib/python3.9/site-packages (from aiohttp<4.0.0,>=3.8.6->llama-index-core==0.10.50) (1.3.1)\n",
      "Requirement already satisfied: attrs>=17.3.0 in ./venv/lib/python3.9/site-packages (from aiohttp<4.0.0,>=3.8.6->llama-index-core==0.10.50) (24.2.0)\n",
      "Requirement already satisfied: frozenlist>=1.1.1 in ./venv/lib/python3.9/site-packages (from aiohttp<4.0.0,>=3.8.6->llama-index-core==0.10.50) (1.4.1)\n",
      "Requirement already satisfied: multidict<7.0,>=4.5 in ./venv/lib/python3.9/site-packages (from aiohttp<4.0.0,>=3.8.6->llama-index-core==0.10.50) (6.1.0)\n",
      "Requirement already satisfied: yarl<2.0,>=1.12.0 in ./venv/lib/python3.9/site-packages (from aiohttp<4.0.0,>=3.8.6->llama-index-core==0.10.50) (1.15.0)\n",
      "Requirement already satisfied: async-timeout<5.0,>=4.0 in ./venv/lib/python3.9/site-packages (from aiohttp<4.0.0,>=3.8.6->llama-index-core==0.10.50) (4.0.3)\n",
      "Requirement already satisfied: pydantic>=1.10 in ./venv/lib/python3.9/site-packages (from llama-cloud<0.0.7,>=0.0.6->llama-index-core==0.10.50) (2.9.2)\n",
      "Requirement already satisfied: anyio in ./venv/lib/python3.9/site-packages (from httpx->llama-index-core==0.10.50) (4.6.0)\n",
      "Requirement already satisfied: certifi in ./venv/lib/python3.9/site-packages (from httpx->llama-index-core==0.10.50) (2024.8.30)\n",
      "Requirement already satisfied: httpcore==1.* in ./venv/lib/python3.9/site-packages (from httpx->llama-index-core==0.10.50) (1.0.6)\n",
      "Requirement already satisfied: idna in ./venv/lib/python3.9/site-packages (from httpx->llama-index-core==0.10.50) (3.10)\n",
      "Requirement already satisfied: sniffio in ./venv/lib/python3.9/site-packages (from httpx->llama-index-core==0.10.50) (1.3.1)\n",
      "Requirement already satisfied: h11<0.15,>=0.13 in ./venv/lib/python3.9/site-packages (from httpcore==1.*->httpx->llama-index-core==0.10.50) (0.14.0)\n",
      "Requirement already satisfied: click in ./venv/lib/python3.9/site-packages (from nltk<4.0.0,>=3.8.1->llama-index-core==0.10.50) (8.1.7)\n",
      "Requirement already satisfied: joblib in ./venv/lib/python3.9/site-packages (from nltk<4.0.0,>=3.8.1->llama-index-core==0.10.50) (1.4.2)\n",
      "Requirement already satisfied: regex>=2021.8.3 in ./venv/lib/python3.9/site-packages (from nltk<4.0.0,>=3.8.1->llama-index-core==0.10.50) (2024.9.11)\n",
      "Requirement already satisfied: distro<2,>=1.7.0 in ./venv/lib/python3.9/site-packages (from openai>=1.1.0->llama-index-core==0.10.50) (1.9.0)\n",
      "Requirement already satisfied: jiter<1,>=0.4.0 in ./venv/lib/python3.9/site-packages (from openai>=1.1.0->llama-index-core==0.10.50) (0.6.1)\n",
      "Requirement already satisfied: charset-normalizer<4,>=2 in ./venv/lib/python3.9/site-packages (from requests>=2.31.0->llama-index-core==0.10.50) (3.4.0)\n",
      "Requirement already satisfied: urllib3<3,>=1.21.1 in ./venv/lib/python3.9/site-packages (from requests>=2.31.0->llama-index-core==0.10.50) (2.2.3)\n",
      "Requirement already satisfied: greenlet!=0.4.17 in ./venv/lib/python3.9/site-packages (from SQLAlchemy>=1.4.49->SQLAlchemy[asyncio]>=1.4.49->llama-index-core==0.10.50) (3.1.1)\n",
      "Requirement already satisfied: mypy-extensions>=0.3.0 in ./venv/lib/python3.9/site-packages (from typing-inspect>=0.8.0->llama-index-core==0.10.50) (1.0.0)\n",
      "Requirement already satisfied: marshmallow<4.0.0,>=3.18.0 in ./venv/lib/python3.9/site-packages (from dataclasses-json->llama-index-core==0.10.50) (3.22.0)\n",
      "Requirement already satisfied: python-dateutil>=2.8.2 in ./venv/lib/python3.9/site-packages (from pandas->llama-index-core==0.10.50) (2.9.0.post0)\n",
      "Requirement already satisfied: pytz>=2020.1 in ./venv/lib/python3.9/site-packages (from pandas->llama-index-core==0.10.50) (2024.2)\n",
      "Requirement already satisfied: tzdata>=2022.7 in ./venv/lib/python3.9/site-packages (from pandas->llama-index-core==0.10.50) (2024.2)\n",
      "Requirement already satisfied: exceptiongroup>=1.0.2 in ./venv/lib/python3.9/site-packages (from anyio->httpx->llama-index-core==0.10.50) (1.2.2)\n",
      "Requirement already satisfied: packaging>=17.0 in ./venv/lib/python3.9/site-packages (from marshmallow<4.0.0,>=3.18.0->dataclasses-json->llama-index-core==0.10.50) (24.1)\n",
      "Requirement already satisfied: annotated-types>=0.6.0 in ./venv/lib/python3.9/site-packages (from pydantic>=1.10->llama-cloud<0.0.7,>=0.0.6->llama-index-core==0.10.50) (0.7.0)\n",
      "Requirement already satisfied: pydantic-core==2.23.4 in ./venv/lib/python3.9/site-packages (from pydantic>=1.10->llama-cloud<0.0.7,>=0.0.6->llama-index-core==0.10.50) (2.23.4)\n",
      "Requirement already satisfied: six>=1.5 in ./venv/lib/python3.9/site-packages (from python-dateutil>=2.8.2->pandas->llama-index-core==0.10.50) (1.16.0)\n",
      "Requirement already satisfied: propcache>=0.2.0 in ./venv/lib/python3.9/site-packages (from yarl<2.0,>=1.12.0->aiohttp<4.0.0,>=3.8.6->llama-index-core==0.10.50) (0.2.0)\n",
      "Using cached llama_index_core-0.10.50-py3-none-any.whl (15.4 MB)\n",
      "Installing collected packages: llama-index-core\n",
      "  Attempting uninstall: llama-index-core\n",
      "    Found existing installation: llama-index-core 0.10.68.post1\n",
      "    Uninstalling llama-index-core-0.10.68.post1:\n",
      "      Successfully uninstalled llama-index-core-0.10.68.post1\n",
      "\u001b[31mERROR: pip's dependency resolver does not currently take into account all the packages that are installed. This behaviour is the source of the following dependency conflicts.\n",
      "llama-index-llms-openai 0.1.31 requires llama-index-core<0.11.0,>=0.10.57, but you have llama-index-core 0.10.50 which is incompatible.\u001b[0m\u001b[31m\n",
      "\u001b[0mSuccessfully installed llama-index-core-0.10.50\n",
      "Requirement already satisfied: llama-index-readers-file==0.1.25 in ./venv/lib/python3.9/site-packages (0.1.25)\n",
      "Requirement already satisfied: beautifulsoup4<5.0.0,>=4.12.3 in ./venv/lib/python3.9/site-packages (from llama-index-readers-file==0.1.25) (4.12.3)\n",
      "Requirement already satisfied: llama-index-core<0.11.0,>=0.10.37.post1 in ./venv/lib/python3.9/site-packages (from llama-index-readers-file==0.1.25) (0.10.50)\n",
      "Requirement already satisfied: pypdf<5.0.0,>=4.0.1 in ./venv/lib/python3.9/site-packages (from llama-index-readers-file==0.1.25) (4.3.1)\n",
      "Requirement already satisfied: striprtf<0.0.27,>=0.0.26 in ./venv/lib/python3.9/site-packages (from llama-index-readers-file==0.1.25) (0.0.26)\n",
      "Requirement already satisfied: soupsieve>1.2 in ./venv/lib/python3.9/site-packages (from beautifulsoup4<5.0.0,>=4.12.3->llama-index-readers-file==0.1.25) (2.6)\n",
      "Requirement already satisfied: PyYAML>=6.0.1 in ./venv/lib/python3.9/site-packages (from llama-index-core<0.11.0,>=0.10.37.post1->llama-index-readers-file==0.1.25) (6.0.2)\n",
      "Requirement already satisfied: SQLAlchemy>=1.4.49 in ./venv/lib/python3.9/site-packages (from SQLAlchemy[asyncio]>=1.4.49->llama-index-core<0.11.0,>=0.10.37.post1->llama-index-readers-file==0.1.25) (2.0.35)\n",
      "Requirement already satisfied: aiohttp<4.0.0,>=3.8.6 in ./venv/lib/python3.9/site-packages (from llama-index-core<0.11.0,>=0.10.37.post1->llama-index-readers-file==0.1.25) (3.10.10)\n",
      "Requirement already satisfied: dataclasses-json in ./venv/lib/python3.9/site-packages (from llama-index-core<0.11.0,>=0.10.37.post1->llama-index-readers-file==0.1.25) (0.6.7)\n",
      "Requirement already satisfied: deprecated>=1.2.9.3 in ./venv/lib/python3.9/site-packages (from llama-index-core<0.11.0,>=0.10.37.post1->llama-index-readers-file==0.1.25) (1.2.14)\n",
      "Requirement already satisfied: dirtyjson<2.0.0,>=1.0.8 in ./venv/lib/python3.9/site-packages (from llama-index-core<0.11.0,>=0.10.37.post1->llama-index-readers-file==0.1.25) (1.0.8)\n",
      "Requirement already satisfied: fsspec>=2023.5.0 in ./venv/lib/python3.9/site-packages (from llama-index-core<0.11.0,>=0.10.37.post1->llama-index-readers-file==0.1.25) (2024.9.0)\n",
      "Requirement already satisfied: httpx in ./venv/lib/python3.9/site-packages (from llama-index-core<0.11.0,>=0.10.37.post1->llama-index-readers-file==0.1.25) (0.27.2)\n",
      "Requirement already satisfied: llama-cloud<0.0.7,>=0.0.6 in ./venv/lib/python3.9/site-packages (from llama-index-core<0.11.0,>=0.10.37.post1->llama-index-readers-file==0.1.25) (0.0.6)\n",
      "Requirement already satisfied: nest-asyncio<2.0.0,>=1.5.8 in ./venv/lib/python3.9/site-packages (from llama-index-core<0.11.0,>=0.10.37.post1->llama-index-readers-file==0.1.25) (1.6.0)\n",
      "Requirement already satisfied: networkx>=3.0 in ./venv/lib/python3.9/site-packages (from llama-index-core<0.11.0,>=0.10.37.post1->llama-index-readers-file==0.1.25) (3.2.1)\n",
      "Requirement already satisfied: nltk<4.0.0,>=3.8.1 in ./venv/lib/python3.9/site-packages (from llama-index-core<0.11.0,>=0.10.37.post1->llama-index-readers-file==0.1.25) (3.9.1)\n",
      "Requirement already satisfied: numpy<2.0.0 in ./venv/lib/python3.9/site-packages (from llama-index-core<0.11.0,>=0.10.37.post1->llama-index-readers-file==0.1.25) (1.26.4)\n",
      "Requirement already satisfied: openai>=1.1.0 in ./venv/lib/python3.9/site-packages (from llama-index-core<0.11.0,>=0.10.37.post1->llama-index-readers-file==0.1.25) (1.51.2)\n",
      "Requirement already satisfied: pandas in ./venv/lib/python3.9/site-packages (from llama-index-core<0.11.0,>=0.10.37.post1->llama-index-readers-file==0.1.25) (2.2.3)\n",
      "Requirement already satisfied: pillow>=9.0.0 in ./venv/lib/python3.9/site-packages (from llama-index-core<0.11.0,>=0.10.37.post1->llama-index-readers-file==0.1.25) (10.4.0)\n",
      "Requirement already satisfied: requests>=2.31.0 in ./venv/lib/python3.9/site-packages (from llama-index-core<0.11.0,>=0.10.37.post1->llama-index-readers-file==0.1.25) (2.32.3)\n",
      "Requirement already satisfied: tenacity!=8.4.0,<9.0.0,>=8.2.0 in ./venv/lib/python3.9/site-packages (from llama-index-core<0.11.0,>=0.10.37.post1->llama-index-readers-file==0.1.25) (8.5.0)\n",
      "Requirement already satisfied: tiktoken>=0.3.3 in ./venv/lib/python3.9/site-packages (from llama-index-core<0.11.0,>=0.10.37.post1->llama-index-readers-file==0.1.25) (0.8.0)\n",
      "Requirement already satisfied: tqdm<5.0.0,>=4.66.1 in ./venv/lib/python3.9/site-packages (from llama-index-core<0.11.0,>=0.10.37.post1->llama-index-readers-file==0.1.25) (4.66.5)\n",
      "Requirement already satisfied: typing-extensions>=4.5.0 in ./venv/lib/python3.9/site-packages (from llama-index-core<0.11.0,>=0.10.37.post1->llama-index-readers-file==0.1.25) (4.12.2)\n",
      "Requirement already satisfied: typing-inspect>=0.8.0 in ./venv/lib/python3.9/site-packages (from llama-index-core<0.11.0,>=0.10.37.post1->llama-index-readers-file==0.1.25) (0.9.0)\n",
      "Requirement already satisfied: wrapt in ./venv/lib/python3.9/site-packages (from llama-index-core<0.11.0,>=0.10.37.post1->llama-index-readers-file==0.1.25) (1.16.0)\n",
      "Requirement already satisfied: aiohappyeyeballs>=2.3.0 in ./venv/lib/python3.9/site-packages (from aiohttp<4.0.0,>=3.8.6->llama-index-core<0.11.0,>=0.10.37.post1->llama-index-readers-file==0.1.25) (2.4.3)\n",
      "Requirement already satisfied: aiosignal>=1.1.2 in ./venv/lib/python3.9/site-packages (from aiohttp<4.0.0,>=3.8.6->llama-index-core<0.11.0,>=0.10.37.post1->llama-index-readers-file==0.1.25) (1.3.1)\n",
      "Requirement already satisfied: attrs>=17.3.0 in ./venv/lib/python3.9/site-packages (from aiohttp<4.0.0,>=3.8.6->llama-index-core<0.11.0,>=0.10.37.post1->llama-index-readers-file==0.1.25) (24.2.0)\n",
      "Requirement already satisfied: frozenlist>=1.1.1 in ./venv/lib/python3.9/site-packages (from aiohttp<4.0.0,>=3.8.6->llama-index-core<0.11.0,>=0.10.37.post1->llama-index-readers-file==0.1.25) (1.4.1)\n",
      "Requirement already satisfied: multidict<7.0,>=4.5 in ./venv/lib/python3.9/site-packages (from aiohttp<4.0.0,>=3.8.6->llama-index-core<0.11.0,>=0.10.37.post1->llama-index-readers-file==0.1.25) (6.1.0)\n",
      "Requirement already satisfied: yarl<2.0,>=1.12.0 in ./venv/lib/python3.9/site-packages (from aiohttp<4.0.0,>=3.8.6->llama-index-core<0.11.0,>=0.10.37.post1->llama-index-readers-file==0.1.25) (1.15.0)\n",
      "Requirement already satisfied: async-timeout<5.0,>=4.0 in ./venv/lib/python3.9/site-packages (from aiohttp<4.0.0,>=3.8.6->llama-index-core<0.11.0,>=0.10.37.post1->llama-index-readers-file==0.1.25) (4.0.3)\n",
      "Requirement already satisfied: pydantic>=1.10 in ./venv/lib/python3.9/site-packages (from llama-cloud<0.0.7,>=0.0.6->llama-index-core<0.11.0,>=0.10.37.post1->llama-index-readers-file==0.1.25) (2.9.2)\n",
      "Requirement already satisfied: anyio in ./venv/lib/python3.9/site-packages (from httpx->llama-index-core<0.11.0,>=0.10.37.post1->llama-index-readers-file==0.1.25) (4.6.0)\n",
      "Requirement already satisfied: certifi in ./venv/lib/python3.9/site-packages (from httpx->llama-index-core<0.11.0,>=0.10.37.post1->llama-index-readers-file==0.1.25) (2024.8.30)\n",
      "Requirement already satisfied: httpcore==1.* in ./venv/lib/python3.9/site-packages (from httpx->llama-index-core<0.11.0,>=0.10.37.post1->llama-index-readers-file==0.1.25) (1.0.6)\n",
      "Requirement already satisfied: idna in ./venv/lib/python3.9/site-packages (from httpx->llama-index-core<0.11.0,>=0.10.37.post1->llama-index-readers-file==0.1.25) (3.10)\n",
      "Requirement already satisfied: sniffio in ./venv/lib/python3.9/site-packages (from httpx->llama-index-core<0.11.0,>=0.10.37.post1->llama-index-readers-file==0.1.25) (1.3.1)\n",
      "Requirement already satisfied: h11<0.15,>=0.13 in ./venv/lib/python3.9/site-packages (from httpcore==1.*->httpx->llama-index-core<0.11.0,>=0.10.37.post1->llama-index-readers-file==0.1.25) (0.14.0)\n",
      "Requirement already satisfied: click in ./venv/lib/python3.9/site-packages (from nltk<4.0.0,>=3.8.1->llama-index-core<0.11.0,>=0.10.37.post1->llama-index-readers-file==0.1.25) (8.1.7)\n",
      "Requirement already satisfied: joblib in ./venv/lib/python3.9/site-packages (from nltk<4.0.0,>=3.8.1->llama-index-core<0.11.0,>=0.10.37.post1->llama-index-readers-file==0.1.25) (1.4.2)\n",
      "Requirement already satisfied: regex>=2021.8.3 in ./venv/lib/python3.9/site-packages (from nltk<4.0.0,>=3.8.1->llama-index-core<0.11.0,>=0.10.37.post1->llama-index-readers-file==0.1.25) (2024.9.11)\n",
      "Requirement already satisfied: distro<2,>=1.7.0 in ./venv/lib/python3.9/site-packages (from openai>=1.1.0->llama-index-core<0.11.0,>=0.10.37.post1->llama-index-readers-file==0.1.25) (1.9.0)\n",
      "Requirement already satisfied: jiter<1,>=0.4.0 in ./venv/lib/python3.9/site-packages (from openai>=1.1.0->llama-index-core<0.11.0,>=0.10.37.post1->llama-index-readers-file==0.1.25) (0.6.1)\n",
      "Requirement already satisfied: charset-normalizer<4,>=2 in ./venv/lib/python3.9/site-packages (from requests>=2.31.0->llama-index-core<0.11.0,>=0.10.37.post1->llama-index-readers-file==0.1.25) (3.4.0)\n",
      "Requirement already satisfied: urllib3<3,>=1.21.1 in ./venv/lib/python3.9/site-packages (from requests>=2.31.0->llama-index-core<0.11.0,>=0.10.37.post1->llama-index-readers-file==0.1.25) (2.2.3)\n",
      "Requirement already satisfied: greenlet!=0.4.17 in ./venv/lib/python3.9/site-packages (from SQLAlchemy>=1.4.49->SQLAlchemy[asyncio]>=1.4.49->llama-index-core<0.11.0,>=0.10.37.post1->llama-index-readers-file==0.1.25) (3.1.1)\n",
      "Requirement already satisfied: mypy-extensions>=0.3.0 in ./venv/lib/python3.9/site-packages (from typing-inspect>=0.8.0->llama-index-core<0.11.0,>=0.10.37.post1->llama-index-readers-file==0.1.25) (1.0.0)\n",
      "Requirement already satisfied: marshmallow<4.0.0,>=3.18.0 in ./venv/lib/python3.9/site-packages (from dataclasses-json->llama-index-core<0.11.0,>=0.10.37.post1->llama-index-readers-file==0.1.25) (3.22.0)\n",
      "Requirement already satisfied: python-dateutil>=2.8.2 in ./venv/lib/python3.9/site-packages (from pandas->llama-index-core<0.11.0,>=0.10.37.post1->llama-index-readers-file==0.1.25) (2.9.0.post0)\n",
      "Requirement already satisfied: pytz>=2020.1 in ./venv/lib/python3.9/site-packages (from pandas->llama-index-core<0.11.0,>=0.10.37.post1->llama-index-readers-file==0.1.25) (2024.2)\n",
      "Requirement already satisfied: tzdata>=2022.7 in ./venv/lib/python3.9/site-packages (from pandas->llama-index-core<0.11.0,>=0.10.37.post1->llama-index-readers-file==0.1.25) (2024.2)\n",
      "Requirement already satisfied: exceptiongroup>=1.0.2 in ./venv/lib/python3.9/site-packages (from anyio->httpx->llama-index-core<0.11.0,>=0.10.37.post1->llama-index-readers-file==0.1.25) (1.2.2)\n",
      "Requirement already satisfied: packaging>=17.0 in ./venv/lib/python3.9/site-packages (from marshmallow<4.0.0,>=3.18.0->dataclasses-json->llama-index-core<0.11.0,>=0.10.37.post1->llama-index-readers-file==0.1.25) (24.1)\n",
      "Requirement already satisfied: annotated-types>=0.6.0 in ./venv/lib/python3.9/site-packages (from pydantic>=1.10->llama-cloud<0.0.7,>=0.0.6->llama-index-core<0.11.0,>=0.10.37.post1->llama-index-readers-file==0.1.25) (0.7.0)\n",
      "Requirement already satisfied: pydantic-core==2.23.4 in ./venv/lib/python3.9/site-packages (from pydantic>=1.10->llama-cloud<0.0.7,>=0.0.6->llama-index-core<0.11.0,>=0.10.37.post1->llama-index-readers-file==0.1.25) (2.23.4)\n",
      "Requirement already satisfied: six>=1.5 in ./venv/lib/python3.9/site-packages (from python-dateutil>=2.8.2->pandas->llama-index-core<0.11.0,>=0.10.37.post1->llama-index-readers-file==0.1.25) (1.16.0)\n",
      "Requirement already satisfied: propcache>=0.2.0 in ./venv/lib/python3.9/site-packages (from yarl<2.0,>=1.12.0->aiohttp<4.0.0,>=3.8.6->llama-index-core<0.11.0,>=0.10.37.post1->llama-index-readers-file==0.1.25) (0.2.0)\n",
      "Requirement already satisfied: llama-index-llms-nvidia==0.1.3 in ./venv/lib/python3.9/site-packages (0.1.3)\n",
      "Requirement already satisfied: llama-index-core<0.11.0,>=0.10.0 in ./venv/lib/python3.9/site-packages (from llama-index-llms-nvidia==0.1.3) (0.10.50)\n",
      "Requirement already satisfied: llama-index-llms-openai<0.2.0,>=0.1.17 in ./venv/lib/python3.9/site-packages (from llama-index-llms-nvidia==0.1.3) (0.1.31)\n",
      "Requirement already satisfied: llama-index-llms-openai-like<0.2.0,>=0.1.3 in ./venv/lib/python3.9/site-packages (from llama-index-llms-nvidia==0.1.3) (0.1.3)\n",
      "Requirement already satisfied: PyYAML>=6.0.1 in ./venv/lib/python3.9/site-packages (from llama-index-core<0.11.0,>=0.10.0->llama-index-llms-nvidia==0.1.3) (6.0.2)\n",
      "Requirement already satisfied: SQLAlchemy>=1.4.49 in ./venv/lib/python3.9/site-packages (from SQLAlchemy[asyncio]>=1.4.49->llama-index-core<0.11.0,>=0.10.0->llama-index-llms-nvidia==0.1.3) (2.0.35)\n",
      "Requirement already satisfied: aiohttp<4.0.0,>=3.8.6 in ./venv/lib/python3.9/site-packages (from llama-index-core<0.11.0,>=0.10.0->llama-index-llms-nvidia==0.1.3) (3.10.10)\n",
      "Requirement already satisfied: dataclasses-json in ./venv/lib/python3.9/site-packages (from llama-index-core<0.11.0,>=0.10.0->llama-index-llms-nvidia==0.1.3) (0.6.7)\n",
      "Requirement already satisfied: deprecated>=1.2.9.3 in ./venv/lib/python3.9/site-packages (from llama-index-core<0.11.0,>=0.10.0->llama-index-llms-nvidia==0.1.3) (1.2.14)\n",
      "Requirement already satisfied: dirtyjson<2.0.0,>=1.0.8 in ./venv/lib/python3.9/site-packages (from llama-index-core<0.11.0,>=0.10.0->llama-index-llms-nvidia==0.1.3) (1.0.8)\n",
      "Requirement already satisfied: fsspec>=2023.5.0 in ./venv/lib/python3.9/site-packages (from llama-index-core<0.11.0,>=0.10.0->llama-index-llms-nvidia==0.1.3) (2024.9.0)\n",
      "Requirement already satisfied: httpx in ./venv/lib/python3.9/site-packages (from llama-index-core<0.11.0,>=0.10.0->llama-index-llms-nvidia==0.1.3) (0.27.2)\n",
      "Requirement already satisfied: llama-cloud<0.0.7,>=0.0.6 in ./venv/lib/python3.9/site-packages (from llama-index-core<0.11.0,>=0.10.0->llama-index-llms-nvidia==0.1.3) (0.0.6)\n",
      "Requirement already satisfied: nest-asyncio<2.0.0,>=1.5.8 in ./venv/lib/python3.9/site-packages (from llama-index-core<0.11.0,>=0.10.0->llama-index-llms-nvidia==0.1.3) (1.6.0)\n",
      "Requirement already satisfied: networkx>=3.0 in ./venv/lib/python3.9/site-packages (from llama-index-core<0.11.0,>=0.10.0->llama-index-llms-nvidia==0.1.3) (3.2.1)\n",
      "Requirement already satisfied: nltk<4.0.0,>=3.8.1 in ./venv/lib/python3.9/site-packages (from llama-index-core<0.11.0,>=0.10.0->llama-index-llms-nvidia==0.1.3) (3.9.1)\n",
      "Requirement already satisfied: numpy<2.0.0 in ./venv/lib/python3.9/site-packages (from llama-index-core<0.11.0,>=0.10.0->llama-index-llms-nvidia==0.1.3) (1.26.4)\n",
      "Requirement already satisfied: openai>=1.1.0 in ./venv/lib/python3.9/site-packages (from llama-index-core<0.11.0,>=0.10.0->llama-index-llms-nvidia==0.1.3) (1.51.2)\n",
      "Requirement already satisfied: pandas in ./venv/lib/python3.9/site-packages (from llama-index-core<0.11.0,>=0.10.0->llama-index-llms-nvidia==0.1.3) (2.2.3)\n",
      "Requirement already satisfied: pillow>=9.0.0 in ./venv/lib/python3.9/site-packages (from llama-index-core<0.11.0,>=0.10.0->llama-index-llms-nvidia==0.1.3) (10.4.0)\n",
      "Requirement already satisfied: requests>=2.31.0 in ./venv/lib/python3.9/site-packages (from llama-index-core<0.11.0,>=0.10.0->llama-index-llms-nvidia==0.1.3) (2.32.3)\n",
      "Requirement already satisfied: tenacity!=8.4.0,<9.0.0,>=8.2.0 in ./venv/lib/python3.9/site-packages (from llama-index-core<0.11.0,>=0.10.0->llama-index-llms-nvidia==0.1.3) (8.5.0)\n",
      "Requirement already satisfied: tiktoken>=0.3.3 in ./venv/lib/python3.9/site-packages (from llama-index-core<0.11.0,>=0.10.0->llama-index-llms-nvidia==0.1.3) (0.8.0)\n",
      "Requirement already satisfied: tqdm<5.0.0,>=4.66.1 in ./venv/lib/python3.9/site-packages (from llama-index-core<0.11.0,>=0.10.0->llama-index-llms-nvidia==0.1.3) (4.66.5)\n",
      "Requirement already satisfied: typing-extensions>=4.5.0 in ./venv/lib/python3.9/site-packages (from llama-index-core<0.11.0,>=0.10.0->llama-index-llms-nvidia==0.1.3) (4.12.2)\n",
      "Requirement already satisfied: typing-inspect>=0.8.0 in ./venv/lib/python3.9/site-packages (from llama-index-core<0.11.0,>=0.10.0->llama-index-llms-nvidia==0.1.3) (0.9.0)\n",
      "Requirement already satisfied: wrapt in ./venv/lib/python3.9/site-packages (from llama-index-core<0.11.0,>=0.10.0->llama-index-llms-nvidia==0.1.3) (1.16.0)\n",
      "Collecting llama-index-core<0.11.0,>=0.10.0 (from llama-index-llms-nvidia==0.1.3)\n",
      "  Using cached llama_index_core-0.10.68.post1-py3-none-any.whl.metadata (2.5 kB)\n",
      "Requirement already satisfied: pydantic<3.0 in ./venv/lib/python3.9/site-packages (from llama-index-core<0.11.0,>=0.10.0->llama-index-llms-nvidia==0.1.3) (2.9.2)\n",
      "Requirement already satisfied: transformers<5.0.0,>=4.37.0 in ./venv/lib/python3.9/site-packages (from llama-index-llms-openai-like<0.2.0,>=0.1.3->llama-index-llms-nvidia==0.1.3) (4.45.2)\n",
      "Requirement already satisfied: aiohappyeyeballs>=2.3.0 in ./venv/lib/python3.9/site-packages (from aiohttp<4.0.0,>=3.8.6->llama-index-core<0.11.0,>=0.10.0->llama-index-llms-nvidia==0.1.3) (2.4.3)\n",
      "Requirement already satisfied: aiosignal>=1.1.2 in ./venv/lib/python3.9/site-packages (from aiohttp<4.0.0,>=3.8.6->llama-index-core<0.11.0,>=0.10.0->llama-index-llms-nvidia==0.1.3) (1.3.1)\n",
      "Requirement already satisfied: attrs>=17.3.0 in ./venv/lib/python3.9/site-packages (from aiohttp<4.0.0,>=3.8.6->llama-index-core<0.11.0,>=0.10.0->llama-index-llms-nvidia==0.1.3) (24.2.0)\n",
      "Requirement already satisfied: frozenlist>=1.1.1 in ./venv/lib/python3.9/site-packages (from aiohttp<4.0.0,>=3.8.6->llama-index-core<0.11.0,>=0.10.0->llama-index-llms-nvidia==0.1.3) (1.4.1)\n",
      "Requirement already satisfied: multidict<7.0,>=4.5 in ./venv/lib/python3.9/site-packages (from aiohttp<4.0.0,>=3.8.6->llama-index-core<0.11.0,>=0.10.0->llama-index-llms-nvidia==0.1.3) (6.1.0)\n",
      "Requirement already satisfied: yarl<2.0,>=1.12.0 in ./venv/lib/python3.9/site-packages (from aiohttp<4.0.0,>=3.8.6->llama-index-core<0.11.0,>=0.10.0->llama-index-llms-nvidia==0.1.3) (1.15.0)\n",
      "Requirement already satisfied: async-timeout<5.0,>=4.0 in ./venv/lib/python3.9/site-packages (from aiohttp<4.0.0,>=3.8.6->llama-index-core<0.11.0,>=0.10.0->llama-index-llms-nvidia==0.1.3) (4.0.3)\n",
      "Requirement already satisfied: click in ./venv/lib/python3.9/site-packages (from nltk<4.0.0,>=3.8.1->llama-index-core<0.11.0,>=0.10.0->llama-index-llms-nvidia==0.1.3) (8.1.7)\n",
      "Requirement already satisfied: joblib in ./venv/lib/python3.9/site-packages (from nltk<4.0.0,>=3.8.1->llama-index-core<0.11.0,>=0.10.0->llama-index-llms-nvidia==0.1.3) (1.4.2)\n",
      "Requirement already satisfied: regex>=2021.8.3 in ./venv/lib/python3.9/site-packages (from nltk<4.0.0,>=3.8.1->llama-index-core<0.11.0,>=0.10.0->llama-index-llms-nvidia==0.1.3) (2024.9.11)\n",
      "Requirement already satisfied: anyio<5,>=3.5.0 in ./venv/lib/python3.9/site-packages (from openai>=1.1.0->llama-index-core<0.11.0,>=0.10.0->llama-index-llms-nvidia==0.1.3) (4.6.0)\n",
      "Requirement already satisfied: distro<2,>=1.7.0 in ./venv/lib/python3.9/site-packages (from openai>=1.1.0->llama-index-core<0.11.0,>=0.10.0->llama-index-llms-nvidia==0.1.3) (1.9.0)\n",
      "Requirement already satisfied: jiter<1,>=0.4.0 in ./venv/lib/python3.9/site-packages (from openai>=1.1.0->llama-index-core<0.11.0,>=0.10.0->llama-index-llms-nvidia==0.1.3) (0.6.1)\n",
      "Requirement already satisfied: sniffio in ./venv/lib/python3.9/site-packages (from openai>=1.1.0->llama-index-core<0.11.0,>=0.10.0->llama-index-llms-nvidia==0.1.3) (1.3.1)\n",
      "Requirement already satisfied: certifi in ./venv/lib/python3.9/site-packages (from httpx->llama-index-core<0.11.0,>=0.10.0->llama-index-llms-nvidia==0.1.3) (2024.8.30)\n",
      "Requirement already satisfied: httpcore==1.* in ./venv/lib/python3.9/site-packages (from httpx->llama-index-core<0.11.0,>=0.10.0->llama-index-llms-nvidia==0.1.3) (1.0.6)\n",
      "Requirement already satisfied: idna in ./venv/lib/python3.9/site-packages (from httpx->llama-index-core<0.11.0,>=0.10.0->llama-index-llms-nvidia==0.1.3) (3.10)\n",
      "Requirement already satisfied: h11<0.15,>=0.13 in ./venv/lib/python3.9/site-packages (from httpcore==1.*->httpx->llama-index-core<0.11.0,>=0.10.0->llama-index-llms-nvidia==0.1.3) (0.14.0)\n",
      "Requirement already satisfied: annotated-types>=0.6.0 in ./venv/lib/python3.9/site-packages (from pydantic<3.0->llama-index-core<0.11.0,>=0.10.0->llama-index-llms-nvidia==0.1.3) (0.7.0)\n",
      "Requirement already satisfied: pydantic-core==2.23.4 in ./venv/lib/python3.9/site-packages (from pydantic<3.0->llama-index-core<0.11.0,>=0.10.0->llama-index-llms-nvidia==0.1.3) (2.23.4)\n",
      "Requirement already satisfied: charset-normalizer<4,>=2 in ./venv/lib/python3.9/site-packages (from requests>=2.31.0->llama-index-core<0.11.0,>=0.10.0->llama-index-llms-nvidia==0.1.3) (3.4.0)\n",
      "Requirement already satisfied: urllib3<3,>=1.21.1 in ./venv/lib/python3.9/site-packages (from requests>=2.31.0->llama-index-core<0.11.0,>=0.10.0->llama-index-llms-nvidia==0.1.3) (2.2.3)\n",
      "Requirement already satisfied: greenlet!=0.4.17 in ./venv/lib/python3.9/site-packages (from SQLAlchemy>=1.4.49->SQLAlchemy[asyncio]>=1.4.49->llama-index-core<0.11.0,>=0.10.0->llama-index-llms-nvidia==0.1.3) (3.1.1)\n",
      "Requirement already satisfied: filelock in ./venv/lib/python3.9/site-packages (from transformers<5.0.0,>=4.37.0->llama-index-llms-openai-like<0.2.0,>=0.1.3->llama-index-llms-nvidia==0.1.3) (3.16.1)\n",
      "Requirement already satisfied: huggingface-hub<1.0,>=0.23.2 in ./venv/lib/python3.9/site-packages (from transformers<5.0.0,>=4.37.0->llama-index-llms-openai-like<0.2.0,>=0.1.3->llama-index-llms-nvidia==0.1.3) (0.25.2)\n",
      "Requirement already satisfied: packaging>=20.0 in ./venv/lib/python3.9/site-packages (from transformers<5.0.0,>=4.37.0->llama-index-llms-openai-like<0.2.0,>=0.1.3->llama-index-llms-nvidia==0.1.3) (24.1)\n",
      "Requirement already satisfied: safetensors>=0.4.1 in ./venv/lib/python3.9/site-packages (from transformers<5.0.0,>=4.37.0->llama-index-llms-openai-like<0.2.0,>=0.1.3->llama-index-llms-nvidia==0.1.3) (0.4.5)\n",
      "Requirement already satisfied: tokenizers<0.21,>=0.20 in ./venv/lib/python3.9/site-packages (from transformers<5.0.0,>=4.37.0->llama-index-llms-openai-like<0.2.0,>=0.1.3->llama-index-llms-nvidia==0.1.3) (0.20.1)\n",
      "Requirement already satisfied: mypy-extensions>=0.3.0 in ./venv/lib/python3.9/site-packages (from typing-inspect>=0.8.0->llama-index-core<0.11.0,>=0.10.0->llama-index-llms-nvidia==0.1.3) (1.0.0)\n",
      "Requirement already satisfied: marshmallow<4.0.0,>=3.18.0 in ./venv/lib/python3.9/site-packages (from dataclasses-json->llama-index-core<0.11.0,>=0.10.0->llama-index-llms-nvidia==0.1.3) (3.22.0)\n",
      "Requirement already satisfied: python-dateutil>=2.8.2 in ./venv/lib/python3.9/site-packages (from pandas->llama-index-core<0.11.0,>=0.10.0->llama-index-llms-nvidia==0.1.3) (2.9.0.post0)\n",
      "Requirement already satisfied: pytz>=2020.1 in ./venv/lib/python3.9/site-packages (from pandas->llama-index-core<0.11.0,>=0.10.0->llama-index-llms-nvidia==0.1.3) (2024.2)\n",
      "Requirement already satisfied: tzdata>=2022.7 in ./venv/lib/python3.9/site-packages (from pandas->llama-index-core<0.11.0,>=0.10.0->llama-index-llms-nvidia==0.1.3) (2024.2)\n",
      "Requirement already satisfied: exceptiongroup>=1.0.2 in ./venv/lib/python3.9/site-packages (from anyio<5,>=3.5.0->openai>=1.1.0->llama-index-core<0.11.0,>=0.10.0->llama-index-llms-nvidia==0.1.3) (1.2.2)\n",
      "Requirement already satisfied: six>=1.5 in ./venv/lib/python3.9/site-packages (from python-dateutil>=2.8.2->pandas->llama-index-core<0.11.0,>=0.10.0->llama-index-llms-nvidia==0.1.3) (1.16.0)\n",
      "Requirement already satisfied: propcache>=0.2.0 in ./venv/lib/python3.9/site-packages (from yarl<2.0,>=1.12.0->aiohttp<4.0.0,>=3.8.6->llama-index-core<0.11.0,>=0.10.0->llama-index-llms-nvidia==0.1.3) (0.2.0)\n",
      "Using cached llama_index_core-0.10.68.post1-py3-none-any.whl (1.6 MB)\n",
      "Installing collected packages: llama-index-core\n",
      "  Attempting uninstall: llama-index-core\n",
      "    Found existing installation: llama-index-core 0.10.50\n",
      "    Uninstalling llama-index-core-0.10.50:\n",
      "      Successfully uninstalled llama-index-core-0.10.50\n",
      "Successfully installed llama-index-core-0.10.68.post1\n",
      "Requirement already satisfied: llama-index-embeddings-nvidia==0.1.4 in ./venv/lib/python3.9/site-packages (0.1.4)\n",
      "Requirement already satisfied: llama-index-core<0.11.0,>=0.10.9 in ./venv/lib/python3.9/site-packages (from llama-index-embeddings-nvidia==0.1.4) (0.10.68.post1)\n",
      "Requirement already satisfied: PyYAML>=6.0.1 in ./venv/lib/python3.9/site-packages (from llama-index-core<0.11.0,>=0.10.9->llama-index-embeddings-nvidia==0.1.4) (6.0.2)\n",
      "Requirement already satisfied: SQLAlchemy>=1.4.49 in ./venv/lib/python3.9/site-packages (from SQLAlchemy[asyncio]>=1.4.49->llama-index-core<0.11.0,>=0.10.9->llama-index-embeddings-nvidia==0.1.4) (2.0.35)\n",
      "Requirement already satisfied: aiohttp<4.0.0,>=3.8.6 in ./venv/lib/python3.9/site-packages (from llama-index-core<0.11.0,>=0.10.9->llama-index-embeddings-nvidia==0.1.4) (3.10.10)\n",
      "Requirement already satisfied: dataclasses-json in ./venv/lib/python3.9/site-packages (from llama-index-core<0.11.0,>=0.10.9->llama-index-embeddings-nvidia==0.1.4) (0.6.7)\n",
      "Requirement already satisfied: deprecated>=1.2.9.3 in ./venv/lib/python3.9/site-packages (from llama-index-core<0.11.0,>=0.10.9->llama-index-embeddings-nvidia==0.1.4) (1.2.14)\n",
      "Requirement already satisfied: dirtyjson<2.0.0,>=1.0.8 in ./venv/lib/python3.9/site-packages (from llama-index-core<0.11.0,>=0.10.9->llama-index-embeddings-nvidia==0.1.4) (1.0.8)\n",
      "Requirement already satisfied: fsspec>=2023.5.0 in ./venv/lib/python3.9/site-packages (from llama-index-core<0.11.0,>=0.10.9->llama-index-embeddings-nvidia==0.1.4) (2024.9.0)\n",
      "Requirement already satisfied: httpx in ./venv/lib/python3.9/site-packages (from llama-index-core<0.11.0,>=0.10.9->llama-index-embeddings-nvidia==0.1.4) (0.27.2)\n",
      "Requirement already satisfied: nest-asyncio<2.0.0,>=1.5.8 in ./venv/lib/python3.9/site-packages (from llama-index-core<0.11.0,>=0.10.9->llama-index-embeddings-nvidia==0.1.4) (1.6.0)\n",
      "Requirement already satisfied: networkx>=3.0 in ./venv/lib/python3.9/site-packages (from llama-index-core<0.11.0,>=0.10.9->llama-index-embeddings-nvidia==0.1.4) (3.2.1)\n",
      "Requirement already satisfied: nltk!=3.9,>=3.8.1 in ./venv/lib/python3.9/site-packages (from llama-index-core<0.11.0,>=0.10.9->llama-index-embeddings-nvidia==0.1.4) (3.9.1)\n",
      "Requirement already satisfied: numpy<2.0.0 in ./venv/lib/python3.9/site-packages (from llama-index-core<0.11.0,>=0.10.9->llama-index-embeddings-nvidia==0.1.4) (1.26.4)\n",
      "Requirement already satisfied: pandas in ./venv/lib/python3.9/site-packages (from llama-index-core<0.11.0,>=0.10.9->llama-index-embeddings-nvidia==0.1.4) (2.2.3)\n",
      "Requirement already satisfied: pillow>=9.0.0 in ./venv/lib/python3.9/site-packages (from llama-index-core<0.11.0,>=0.10.9->llama-index-embeddings-nvidia==0.1.4) (10.4.0)\n",
      "Requirement already satisfied: pydantic<3.0 in ./venv/lib/python3.9/site-packages (from llama-index-core<0.11.0,>=0.10.9->llama-index-embeddings-nvidia==0.1.4) (2.9.2)\n",
      "Requirement already satisfied: requests>=2.31.0 in ./venv/lib/python3.9/site-packages (from llama-index-core<0.11.0,>=0.10.9->llama-index-embeddings-nvidia==0.1.4) (2.32.3)\n",
      "Requirement already satisfied: tenacity!=8.4.0,<9.0.0,>=8.2.0 in ./venv/lib/python3.9/site-packages (from llama-index-core<0.11.0,>=0.10.9->llama-index-embeddings-nvidia==0.1.4) (8.5.0)\n",
      "Requirement already satisfied: tiktoken>=0.3.3 in ./venv/lib/python3.9/site-packages (from llama-index-core<0.11.0,>=0.10.9->llama-index-embeddings-nvidia==0.1.4) (0.8.0)\n",
      "Requirement already satisfied: tqdm<5.0.0,>=4.66.1 in ./venv/lib/python3.9/site-packages (from llama-index-core<0.11.0,>=0.10.9->llama-index-embeddings-nvidia==0.1.4) (4.66.5)\n",
      "Requirement already satisfied: typing-extensions>=4.5.0 in ./venv/lib/python3.9/site-packages (from llama-index-core<0.11.0,>=0.10.9->llama-index-embeddings-nvidia==0.1.4) (4.12.2)\n",
      "Requirement already satisfied: typing-inspect>=0.8.0 in ./venv/lib/python3.9/site-packages (from llama-index-core<0.11.0,>=0.10.9->llama-index-embeddings-nvidia==0.1.4) (0.9.0)\n",
      "Requirement already satisfied: wrapt in ./venv/lib/python3.9/site-packages (from llama-index-core<0.11.0,>=0.10.9->llama-index-embeddings-nvidia==0.1.4) (1.16.0)\n",
      "Requirement already satisfied: aiohappyeyeballs>=2.3.0 in ./venv/lib/python3.9/site-packages (from aiohttp<4.0.0,>=3.8.6->llama-index-core<0.11.0,>=0.10.9->llama-index-embeddings-nvidia==0.1.4) (2.4.3)\n",
      "Requirement already satisfied: aiosignal>=1.1.2 in ./venv/lib/python3.9/site-packages (from aiohttp<4.0.0,>=3.8.6->llama-index-core<0.11.0,>=0.10.9->llama-index-embeddings-nvidia==0.1.4) (1.3.1)\n",
      "Requirement already satisfied: attrs>=17.3.0 in ./venv/lib/python3.9/site-packages (from aiohttp<4.0.0,>=3.8.6->llama-index-core<0.11.0,>=0.10.9->llama-index-embeddings-nvidia==0.1.4) (24.2.0)\n",
      "Requirement already satisfied: frozenlist>=1.1.1 in ./venv/lib/python3.9/site-packages (from aiohttp<4.0.0,>=3.8.6->llama-index-core<0.11.0,>=0.10.9->llama-index-embeddings-nvidia==0.1.4) (1.4.1)\n",
      "Requirement already satisfied: multidict<7.0,>=4.5 in ./venv/lib/python3.9/site-packages (from aiohttp<4.0.0,>=3.8.6->llama-index-core<0.11.0,>=0.10.9->llama-index-embeddings-nvidia==0.1.4) (6.1.0)\n",
      "Requirement already satisfied: yarl<2.0,>=1.12.0 in ./venv/lib/python3.9/site-packages (from aiohttp<4.0.0,>=3.8.6->llama-index-core<0.11.0,>=0.10.9->llama-index-embeddings-nvidia==0.1.4) (1.15.0)\n",
      "Requirement already satisfied: async-timeout<5.0,>=4.0 in ./venv/lib/python3.9/site-packages (from aiohttp<4.0.0,>=3.8.6->llama-index-core<0.11.0,>=0.10.9->llama-index-embeddings-nvidia==0.1.4) (4.0.3)\n",
      "Requirement already satisfied: click in ./venv/lib/python3.9/site-packages (from nltk!=3.9,>=3.8.1->llama-index-core<0.11.0,>=0.10.9->llama-index-embeddings-nvidia==0.1.4) (8.1.7)\n",
      "Requirement already satisfied: joblib in ./venv/lib/python3.9/site-packages (from nltk!=3.9,>=3.8.1->llama-index-core<0.11.0,>=0.10.9->llama-index-embeddings-nvidia==0.1.4) (1.4.2)\n",
      "Requirement already satisfied: regex>=2021.8.3 in ./venv/lib/python3.9/site-packages (from nltk!=3.9,>=3.8.1->llama-index-core<0.11.0,>=0.10.9->llama-index-embeddings-nvidia==0.1.4) (2024.9.11)\n",
      "Requirement already satisfied: annotated-types>=0.6.0 in ./venv/lib/python3.9/site-packages (from pydantic<3.0->llama-index-core<0.11.0,>=0.10.9->llama-index-embeddings-nvidia==0.1.4) (0.7.0)\n",
      "Requirement already satisfied: pydantic-core==2.23.4 in ./venv/lib/python3.9/site-packages (from pydantic<3.0->llama-index-core<0.11.0,>=0.10.9->llama-index-embeddings-nvidia==0.1.4) (2.23.4)\n",
      "Requirement already satisfied: charset-normalizer<4,>=2 in ./venv/lib/python3.9/site-packages (from requests>=2.31.0->llama-index-core<0.11.0,>=0.10.9->llama-index-embeddings-nvidia==0.1.4) (3.4.0)\n",
      "Requirement already satisfied: idna<4,>=2.5 in ./venv/lib/python3.9/site-packages (from requests>=2.31.0->llama-index-core<0.11.0,>=0.10.9->llama-index-embeddings-nvidia==0.1.4) (3.10)\n",
      "Requirement already satisfied: urllib3<3,>=1.21.1 in ./venv/lib/python3.9/site-packages (from requests>=2.31.0->llama-index-core<0.11.0,>=0.10.9->llama-index-embeddings-nvidia==0.1.4) (2.2.3)\n",
      "Requirement already satisfied: certifi>=2017.4.17 in ./venv/lib/python3.9/site-packages (from requests>=2.31.0->llama-index-core<0.11.0,>=0.10.9->llama-index-embeddings-nvidia==0.1.4) (2024.8.30)\n",
      "Requirement already satisfied: greenlet!=0.4.17 in ./venv/lib/python3.9/site-packages (from SQLAlchemy>=1.4.49->SQLAlchemy[asyncio]>=1.4.49->llama-index-core<0.11.0,>=0.10.9->llama-index-embeddings-nvidia==0.1.4) (3.1.1)\n",
      "Requirement already satisfied: mypy-extensions>=0.3.0 in ./venv/lib/python3.9/site-packages (from typing-inspect>=0.8.0->llama-index-core<0.11.0,>=0.10.9->llama-index-embeddings-nvidia==0.1.4) (1.0.0)\n",
      "Requirement already satisfied: marshmallow<4.0.0,>=3.18.0 in ./venv/lib/python3.9/site-packages (from dataclasses-json->llama-index-core<0.11.0,>=0.10.9->llama-index-embeddings-nvidia==0.1.4) (3.22.0)\n",
      "Requirement already satisfied: anyio in ./venv/lib/python3.9/site-packages (from httpx->llama-index-core<0.11.0,>=0.10.9->llama-index-embeddings-nvidia==0.1.4) (4.6.0)\n",
      "Requirement already satisfied: httpcore==1.* in ./venv/lib/python3.9/site-packages (from httpx->llama-index-core<0.11.0,>=0.10.9->llama-index-embeddings-nvidia==0.1.4) (1.0.6)\n",
      "Requirement already satisfied: sniffio in ./venv/lib/python3.9/site-packages (from httpx->llama-index-core<0.11.0,>=0.10.9->llama-index-embeddings-nvidia==0.1.4) (1.3.1)\n",
      "Requirement already satisfied: h11<0.15,>=0.13 in ./venv/lib/python3.9/site-packages (from httpcore==1.*->httpx->llama-index-core<0.11.0,>=0.10.9->llama-index-embeddings-nvidia==0.1.4) (0.14.0)\n",
      "Requirement already satisfied: python-dateutil>=2.8.2 in ./venv/lib/python3.9/site-packages (from pandas->llama-index-core<0.11.0,>=0.10.9->llama-index-embeddings-nvidia==0.1.4) (2.9.0.post0)\n",
      "Requirement already satisfied: pytz>=2020.1 in ./venv/lib/python3.9/site-packages (from pandas->llama-index-core<0.11.0,>=0.10.9->llama-index-embeddings-nvidia==0.1.4) (2024.2)\n",
      "Requirement already satisfied: tzdata>=2022.7 in ./venv/lib/python3.9/site-packages (from pandas->llama-index-core<0.11.0,>=0.10.9->llama-index-embeddings-nvidia==0.1.4) (2024.2)\n",
      "Requirement already satisfied: packaging>=17.0 in ./venv/lib/python3.9/site-packages (from marshmallow<4.0.0,>=3.18.0->dataclasses-json->llama-index-core<0.11.0,>=0.10.9->llama-index-embeddings-nvidia==0.1.4) (24.1)\n",
      "Requirement already satisfied: six>=1.5 in ./venv/lib/python3.9/site-packages (from python-dateutil>=2.8.2->pandas->llama-index-core<0.11.0,>=0.10.9->llama-index-embeddings-nvidia==0.1.4) (1.16.0)\n",
      "Requirement already satisfied: propcache>=0.2.0 in ./venv/lib/python3.9/site-packages (from yarl<2.0,>=1.12.0->aiohttp<4.0.0,>=3.8.6->llama-index-core<0.11.0,>=0.10.9->llama-index-embeddings-nvidia==0.1.4) (0.2.0)\n",
      "Requirement already satisfied: exceptiongroup>=1.0.2 in ./venv/lib/python3.9/site-packages (from anyio->httpx->llama-index-core<0.11.0,>=0.10.9->llama-index-embeddings-nvidia==0.1.4) (1.2.2)\n",
      "Requirement already satisfied: llama-index-postprocessor-nvidia-rerank==0.1.2 in ./venv/lib/python3.9/site-packages (0.1.2)\n",
      "Requirement already satisfied: llama-index-core<0.11.0,>=0.10.35 in ./venv/lib/python3.9/site-packages (from llama-index-postprocessor-nvidia-rerank==0.1.2) (0.10.68.post1)\n",
      "Requirement already satisfied: PyYAML>=6.0.1 in ./venv/lib/python3.9/site-packages (from llama-index-core<0.11.0,>=0.10.35->llama-index-postprocessor-nvidia-rerank==0.1.2) (6.0.2)\n",
      "Requirement already satisfied: SQLAlchemy>=1.4.49 in ./venv/lib/python3.9/site-packages (from SQLAlchemy[asyncio]>=1.4.49->llama-index-core<0.11.0,>=0.10.35->llama-index-postprocessor-nvidia-rerank==0.1.2) (2.0.35)\n",
      "Requirement already satisfied: aiohttp<4.0.0,>=3.8.6 in ./venv/lib/python3.9/site-packages (from llama-index-core<0.11.0,>=0.10.35->llama-index-postprocessor-nvidia-rerank==0.1.2) (3.10.10)\n",
      "Requirement already satisfied: dataclasses-json in ./venv/lib/python3.9/site-packages (from llama-index-core<0.11.0,>=0.10.35->llama-index-postprocessor-nvidia-rerank==0.1.2) (0.6.7)\n",
      "Requirement already satisfied: deprecated>=1.2.9.3 in ./venv/lib/python3.9/site-packages (from llama-index-core<0.11.0,>=0.10.35->llama-index-postprocessor-nvidia-rerank==0.1.2) (1.2.14)\n",
      "Requirement already satisfied: dirtyjson<2.0.0,>=1.0.8 in ./venv/lib/python3.9/site-packages (from llama-index-core<0.11.0,>=0.10.35->llama-index-postprocessor-nvidia-rerank==0.1.2) (1.0.8)\n",
      "Requirement already satisfied: fsspec>=2023.5.0 in ./venv/lib/python3.9/site-packages (from llama-index-core<0.11.0,>=0.10.35->llama-index-postprocessor-nvidia-rerank==0.1.2) (2024.9.0)\n",
      "Requirement already satisfied: httpx in ./venv/lib/python3.9/site-packages (from llama-index-core<0.11.0,>=0.10.35->llama-index-postprocessor-nvidia-rerank==0.1.2) (0.27.2)\n",
      "Requirement already satisfied: nest-asyncio<2.0.0,>=1.5.8 in ./venv/lib/python3.9/site-packages (from llama-index-core<0.11.0,>=0.10.35->llama-index-postprocessor-nvidia-rerank==0.1.2) (1.6.0)\n",
      "Requirement already satisfied: networkx>=3.0 in ./venv/lib/python3.9/site-packages (from llama-index-core<0.11.0,>=0.10.35->llama-index-postprocessor-nvidia-rerank==0.1.2) (3.2.1)\n",
      "Requirement already satisfied: nltk!=3.9,>=3.8.1 in ./venv/lib/python3.9/site-packages (from llama-index-core<0.11.0,>=0.10.35->llama-index-postprocessor-nvidia-rerank==0.1.2) (3.9.1)\n",
      "Requirement already satisfied: numpy<2.0.0 in ./venv/lib/python3.9/site-packages (from llama-index-core<0.11.0,>=0.10.35->llama-index-postprocessor-nvidia-rerank==0.1.2) (1.26.4)\n",
      "Requirement already satisfied: pandas in ./venv/lib/python3.9/site-packages (from llama-index-core<0.11.0,>=0.10.35->llama-index-postprocessor-nvidia-rerank==0.1.2) (2.2.3)\n",
      "Requirement already satisfied: pillow>=9.0.0 in ./venv/lib/python3.9/site-packages (from llama-index-core<0.11.0,>=0.10.35->llama-index-postprocessor-nvidia-rerank==0.1.2) (10.4.0)\n",
      "Requirement already satisfied: pydantic<3.0 in ./venv/lib/python3.9/site-packages (from llama-index-core<0.11.0,>=0.10.35->llama-index-postprocessor-nvidia-rerank==0.1.2) (2.9.2)\n",
      "Requirement already satisfied: requests>=2.31.0 in ./venv/lib/python3.9/site-packages (from llama-index-core<0.11.0,>=0.10.35->llama-index-postprocessor-nvidia-rerank==0.1.2) (2.32.3)\n",
      "Requirement already satisfied: tenacity!=8.4.0,<9.0.0,>=8.2.0 in ./venv/lib/python3.9/site-packages (from llama-index-core<0.11.0,>=0.10.35->llama-index-postprocessor-nvidia-rerank==0.1.2) (8.5.0)\n",
      "Requirement already satisfied: tiktoken>=0.3.3 in ./venv/lib/python3.9/site-packages (from llama-index-core<0.11.0,>=0.10.35->llama-index-postprocessor-nvidia-rerank==0.1.2) (0.8.0)\n",
      "Requirement already satisfied: tqdm<5.0.0,>=4.66.1 in ./venv/lib/python3.9/site-packages (from llama-index-core<0.11.0,>=0.10.35->llama-index-postprocessor-nvidia-rerank==0.1.2) (4.66.5)\n",
      "Requirement already satisfied: typing-extensions>=4.5.0 in ./venv/lib/python3.9/site-packages (from llama-index-core<0.11.0,>=0.10.35->llama-index-postprocessor-nvidia-rerank==0.1.2) (4.12.2)\n",
      "Requirement already satisfied: typing-inspect>=0.8.0 in ./venv/lib/python3.9/site-packages (from llama-index-core<0.11.0,>=0.10.35->llama-index-postprocessor-nvidia-rerank==0.1.2) (0.9.0)\n",
      "Requirement already satisfied: wrapt in ./venv/lib/python3.9/site-packages (from llama-index-core<0.11.0,>=0.10.35->llama-index-postprocessor-nvidia-rerank==0.1.2) (1.16.0)\n",
      "Requirement already satisfied: aiohappyeyeballs>=2.3.0 in ./venv/lib/python3.9/site-packages (from aiohttp<4.0.0,>=3.8.6->llama-index-core<0.11.0,>=0.10.35->llama-index-postprocessor-nvidia-rerank==0.1.2) (2.4.3)\n",
      "Requirement already satisfied: aiosignal>=1.1.2 in ./venv/lib/python3.9/site-packages (from aiohttp<4.0.0,>=3.8.6->llama-index-core<0.11.0,>=0.10.35->llama-index-postprocessor-nvidia-rerank==0.1.2) (1.3.1)\n",
      "Requirement already satisfied: attrs>=17.3.0 in ./venv/lib/python3.9/site-packages (from aiohttp<4.0.0,>=3.8.6->llama-index-core<0.11.0,>=0.10.35->llama-index-postprocessor-nvidia-rerank==0.1.2) (24.2.0)\n",
      "Requirement already satisfied: frozenlist>=1.1.1 in ./venv/lib/python3.9/site-packages (from aiohttp<4.0.0,>=3.8.6->llama-index-core<0.11.0,>=0.10.35->llama-index-postprocessor-nvidia-rerank==0.1.2) (1.4.1)\n",
      "Requirement already satisfied: multidict<7.0,>=4.5 in ./venv/lib/python3.9/site-packages (from aiohttp<4.0.0,>=3.8.6->llama-index-core<0.11.0,>=0.10.35->llama-index-postprocessor-nvidia-rerank==0.1.2) (6.1.0)\n",
      "Requirement already satisfied: yarl<2.0,>=1.12.0 in ./venv/lib/python3.9/site-packages (from aiohttp<4.0.0,>=3.8.6->llama-index-core<0.11.0,>=0.10.35->llama-index-postprocessor-nvidia-rerank==0.1.2) (1.15.0)\n",
      "Requirement already satisfied: async-timeout<5.0,>=4.0 in ./venv/lib/python3.9/site-packages (from aiohttp<4.0.0,>=3.8.6->llama-index-core<0.11.0,>=0.10.35->llama-index-postprocessor-nvidia-rerank==0.1.2) (4.0.3)\n",
      "Requirement already satisfied: click in ./venv/lib/python3.9/site-packages (from nltk!=3.9,>=3.8.1->llama-index-core<0.11.0,>=0.10.35->llama-index-postprocessor-nvidia-rerank==0.1.2) (8.1.7)\n",
      "Requirement already satisfied: joblib in ./venv/lib/python3.9/site-packages (from nltk!=3.9,>=3.8.1->llama-index-core<0.11.0,>=0.10.35->llama-index-postprocessor-nvidia-rerank==0.1.2) (1.4.2)\n",
      "Requirement already satisfied: regex>=2021.8.3 in ./venv/lib/python3.9/site-packages (from nltk!=3.9,>=3.8.1->llama-index-core<0.11.0,>=0.10.35->llama-index-postprocessor-nvidia-rerank==0.1.2) (2024.9.11)\n",
      "Requirement already satisfied: annotated-types>=0.6.0 in ./venv/lib/python3.9/site-packages (from pydantic<3.0->llama-index-core<0.11.0,>=0.10.35->llama-index-postprocessor-nvidia-rerank==0.1.2) (0.7.0)\n",
      "Requirement already satisfied: pydantic-core==2.23.4 in ./venv/lib/python3.9/site-packages (from pydantic<3.0->llama-index-core<0.11.0,>=0.10.35->llama-index-postprocessor-nvidia-rerank==0.1.2) (2.23.4)\n",
      "Requirement already satisfied: charset-normalizer<4,>=2 in ./venv/lib/python3.9/site-packages (from requests>=2.31.0->llama-index-core<0.11.0,>=0.10.35->llama-index-postprocessor-nvidia-rerank==0.1.2) (3.4.0)\n",
      "Requirement already satisfied: idna<4,>=2.5 in ./venv/lib/python3.9/site-packages (from requests>=2.31.0->llama-index-core<0.11.0,>=0.10.35->llama-index-postprocessor-nvidia-rerank==0.1.2) (3.10)\n",
      "Requirement already satisfied: urllib3<3,>=1.21.1 in ./venv/lib/python3.9/site-packages (from requests>=2.31.0->llama-index-core<0.11.0,>=0.10.35->llama-index-postprocessor-nvidia-rerank==0.1.2) (2.2.3)\n",
      "Requirement already satisfied: certifi>=2017.4.17 in ./venv/lib/python3.9/site-packages (from requests>=2.31.0->llama-index-core<0.11.0,>=0.10.35->llama-index-postprocessor-nvidia-rerank==0.1.2) (2024.8.30)\n",
      "Requirement already satisfied: greenlet!=0.4.17 in ./venv/lib/python3.9/site-packages (from SQLAlchemy>=1.4.49->SQLAlchemy[asyncio]>=1.4.49->llama-index-core<0.11.0,>=0.10.35->llama-index-postprocessor-nvidia-rerank==0.1.2) (3.1.1)\n",
      "Requirement already satisfied: mypy-extensions>=0.3.0 in ./venv/lib/python3.9/site-packages (from typing-inspect>=0.8.0->llama-index-core<0.11.0,>=0.10.35->llama-index-postprocessor-nvidia-rerank==0.1.2) (1.0.0)\n",
      "Requirement already satisfied: marshmallow<4.0.0,>=3.18.0 in ./venv/lib/python3.9/site-packages (from dataclasses-json->llama-index-core<0.11.0,>=0.10.35->llama-index-postprocessor-nvidia-rerank==0.1.2) (3.22.0)\n",
      "Requirement already satisfied: anyio in ./venv/lib/python3.9/site-packages (from httpx->llama-index-core<0.11.0,>=0.10.35->llama-index-postprocessor-nvidia-rerank==0.1.2) (4.6.0)\n",
      "Requirement already satisfied: httpcore==1.* in ./venv/lib/python3.9/site-packages (from httpx->llama-index-core<0.11.0,>=0.10.35->llama-index-postprocessor-nvidia-rerank==0.1.2) (1.0.6)\n",
      "Requirement already satisfied: sniffio in ./venv/lib/python3.9/site-packages (from httpx->llama-index-core<0.11.0,>=0.10.35->llama-index-postprocessor-nvidia-rerank==0.1.2) (1.3.1)\n",
      "Requirement already satisfied: h11<0.15,>=0.13 in ./venv/lib/python3.9/site-packages (from httpcore==1.*->httpx->llama-index-core<0.11.0,>=0.10.35->llama-index-postprocessor-nvidia-rerank==0.1.2) (0.14.0)\n",
      "Requirement already satisfied: python-dateutil>=2.8.2 in ./venv/lib/python3.9/site-packages (from pandas->llama-index-core<0.11.0,>=0.10.35->llama-index-postprocessor-nvidia-rerank==0.1.2) (2.9.0.post0)\n",
      "Requirement already satisfied: pytz>=2020.1 in ./venv/lib/python3.9/site-packages (from pandas->llama-index-core<0.11.0,>=0.10.35->llama-index-postprocessor-nvidia-rerank==0.1.2) (2024.2)\n",
      "Requirement already satisfied: tzdata>=2022.7 in ./venv/lib/python3.9/site-packages (from pandas->llama-index-core<0.11.0,>=0.10.35->llama-index-postprocessor-nvidia-rerank==0.1.2) (2024.2)\n",
      "Requirement already satisfied: packaging>=17.0 in ./venv/lib/python3.9/site-packages (from marshmallow<4.0.0,>=3.18.0->dataclasses-json->llama-index-core<0.11.0,>=0.10.35->llama-index-postprocessor-nvidia-rerank==0.1.2) (24.1)\n",
      "Requirement already satisfied: six>=1.5 in ./venv/lib/python3.9/site-packages (from python-dateutil>=2.8.2->pandas->llama-index-core<0.11.0,>=0.10.35->llama-index-postprocessor-nvidia-rerank==0.1.2) (1.16.0)\n",
      "Requirement already satisfied: propcache>=0.2.0 in ./venv/lib/python3.9/site-packages (from yarl<2.0,>=1.12.0->aiohttp<4.0.0,>=3.8.6->llama-index-core<0.11.0,>=0.10.35->llama-index-postprocessor-nvidia-rerank==0.1.2) (0.2.0)\n",
      "Requirement already satisfied: exceptiongroup>=1.0.2 in ./venv/lib/python3.9/site-packages (from anyio->httpx->llama-index-core<0.11.0,>=0.10.35->llama-index-postprocessor-nvidia-rerank==0.1.2) (1.2.2)\n",
      "Requirement already satisfied: ipywidgets==8.1.3 in ./venv/lib/python3.9/site-packages (8.1.3)\n",
      "Requirement already satisfied: comm>=0.1.3 in ./venv/lib/python3.9/site-packages (from ipywidgets==8.1.3) (0.2.2)\n",
      "Requirement already satisfied: ipython>=6.1.0 in ./venv/lib/python3.9/site-packages (from ipywidgets==8.1.3) (8.18.1)\n",
      "Requirement already satisfied: traitlets>=4.3.1 in ./venv/lib/python3.9/site-packages (from ipywidgets==8.1.3) (5.14.3)\n",
      "Requirement already satisfied: widgetsnbextension~=4.0.11 in ./venv/lib/python3.9/site-packages (from ipywidgets==8.1.3) (4.0.13)\n",
      "Requirement already satisfied: jupyterlab-widgets~=3.0.11 in ./venv/lib/python3.9/site-packages (from ipywidgets==8.1.3) (3.0.13)\n",
      "Requirement already satisfied: decorator in ./venv/lib/python3.9/site-packages (from ipython>=6.1.0->ipywidgets==8.1.3) (5.1.1)\n",
      "Requirement already satisfied: jedi>=0.16 in ./venv/lib/python3.9/site-packages (from ipython>=6.1.0->ipywidgets==8.1.3) (0.19.1)\n",
      "Requirement already satisfied: matplotlib-inline in ./venv/lib/python3.9/site-packages (from ipython>=6.1.0->ipywidgets==8.1.3) (0.1.7)\n",
      "Requirement already satisfied: prompt-toolkit<3.1.0,>=3.0.41 in ./venv/lib/python3.9/site-packages (from ipython>=6.1.0->ipywidgets==8.1.3) (3.0.48)\n",
      "Requirement already satisfied: pygments>=2.4.0 in ./venv/lib/python3.9/site-packages (from ipython>=6.1.0->ipywidgets==8.1.3) (2.18.0)\n",
      "Requirement already satisfied: stack-data in ./venv/lib/python3.9/site-packages (from ipython>=6.1.0->ipywidgets==8.1.3) (0.6.3)\n",
      "Requirement already satisfied: typing-extensions in ./venv/lib/python3.9/site-packages (from ipython>=6.1.0->ipywidgets==8.1.3) (4.12.2)\n",
      "Requirement already satisfied: exceptiongroup in ./venv/lib/python3.9/site-packages (from ipython>=6.1.0->ipywidgets==8.1.3) (1.2.2)\n",
      "Requirement already satisfied: pexpect>4.3 in ./venv/lib/python3.9/site-packages (from ipython>=6.1.0->ipywidgets==8.1.3) (4.9.0)\n",
      "Requirement already satisfied: parso<0.9.0,>=0.8.3 in ./venv/lib/python3.9/site-packages (from jedi>=0.16->ipython>=6.1.0->ipywidgets==8.1.3) (0.8.4)\n",
      "Requirement already satisfied: ptyprocess>=0.5 in ./venv/lib/python3.9/site-packages (from pexpect>4.3->ipython>=6.1.0->ipywidgets==8.1.3) (0.7.0)\n",
      "Requirement already satisfied: wcwidth in ./venv/lib/python3.9/site-packages (from prompt-toolkit<3.1.0,>=3.0.41->ipython>=6.1.0->ipywidgets==8.1.3) (0.2.13)\n",
      "Requirement already satisfied: executing>=1.2.0 in ./venv/lib/python3.9/site-packages (from stack-data->ipython>=6.1.0->ipywidgets==8.1.3) (2.1.0)\n",
      "Requirement already satisfied: asttokens>=2.1.0 in ./venv/lib/python3.9/site-packages (from stack-data->ipython>=6.1.0->ipywidgets==8.1.3) (2.4.1)\n",
      "Requirement already satisfied: pure-eval in ./venv/lib/python3.9/site-packages (from stack-data->ipython>=6.1.0->ipywidgets==8.1.3) (0.2.3)\n",
      "Requirement already satisfied: six>=1.12.0 in ./venv/lib/python3.9/site-packages (from asttokens>=2.1.0->stack-data->ipython>=6.1.0->ipywidgets==8.1.3) (1.16.0)\n",
      "Collecting dotenv\n",
      "  Downloading dotenv-0.0.5.tar.gz (2.4 kB)\n",
      "  Installing build dependencies ... \u001b[?25ldone\n",
      "\u001b[?25h  Getting requirements to build wheel ... \u001b[?25ldone\n",
      "\u001b[?25h  Installing backend dependencies ... \u001b[?25lerror\n",
      "  \u001b[1;31merror\u001b[0m: \u001b[1msubprocess-exited-with-error\u001b[0m\n",
      "  \n",
      "  \u001b[31m×\u001b[0m \u001b[32mpip subprocess to install backend dependencies\u001b[0m did not run successfully.\n",
      "  \u001b[31m│\u001b[0m exit code: \u001b[1;36m1\u001b[0m\n",
      "  \u001b[31m╰─>\u001b[0m \u001b[31m[29 lines of output]\u001b[0m\n",
      "  \u001b[31m   \u001b[0m Collecting distribute\n",
      "  \u001b[31m   \u001b[0m   Downloading distribute-0.7.3.zip (145 kB)\n",
      "  \u001b[31m   \u001b[0m   Installing build dependencies: started\n",
      "  \u001b[31m   \u001b[0m   Installing build dependencies: finished with status 'done'\n",
      "  \u001b[31m   \u001b[0m   Getting requirements to build wheel: started\n",
      "  \u001b[31m   \u001b[0m   Getting requirements to build wheel: finished with status 'done'\n",
      "  \u001b[31m   \u001b[0m   Preparing metadata (pyproject.toml): started\n",
      "  \u001b[31m   \u001b[0m   Preparing metadata (pyproject.toml): finished with status 'error'\n",
      "  \u001b[31m   \u001b[0m   \u001b[1;31merror\u001b[0m: \u001b[1msubprocess-exited-with-error\u001b[0m\n",
      "  \u001b[31m   \u001b[0m \n",
      "  \u001b[31m   \u001b[0m   \u001b[31m×\u001b[0m \u001b[32mPreparing metadata \u001b[0m\u001b[1;32m(\u001b[0m\u001b[32mpyproject.toml\u001b[0m\u001b[1;32m)\u001b[0m did not run successfully.\n",
      "  \u001b[31m   \u001b[0m   \u001b[31m│\u001b[0m exit code: \u001b[1;36m1\u001b[0m\n",
      "  \u001b[31m   \u001b[0m   \u001b[31m╰─>\u001b[0m \u001b[31m[6 lines of output]\u001b[0m\n",
      "  \u001b[31m   \u001b[0m   \u001b[31m   \u001b[0m usage: setup.py [global_opts] cmd1 [cmd1_opts] [cmd2 [cmd2_opts] ...]\n",
      "  \u001b[31m   \u001b[0m   \u001b[31m   \u001b[0m    or: setup.py --help [cmd1 cmd2 ...]\n",
      "  \u001b[31m   \u001b[0m   \u001b[31m   \u001b[0m    or: setup.py --help-commands\n",
      "  \u001b[31m   \u001b[0m   \u001b[31m   \u001b[0m    or: setup.py cmd --help\n",
      "  \u001b[31m   \u001b[0m   \u001b[31m   \u001b[0m\n",
      "  \u001b[31m   \u001b[0m   \u001b[31m   \u001b[0m error: invalid command 'dist_info'\n",
      "  \u001b[31m   \u001b[0m   \u001b[31m   \u001b[0m \u001b[31m[end of output]\u001b[0m\n",
      "  \u001b[31m   \u001b[0m \n",
      "  \u001b[31m   \u001b[0m   \u001b[1;35mnote\u001b[0m: This error originates from a subprocess, and is likely not a problem with pip.\n",
      "  \u001b[31m   \u001b[0m \u001b[1;31merror\u001b[0m: \u001b[1mmetadata-generation-failed\u001b[0m\n",
      "  \u001b[31m   \u001b[0m \n",
      "  \u001b[31m   \u001b[0m \u001b[31m×\u001b[0m Encountered error while generating package metadata.\n",
      "  \u001b[31m   \u001b[0m \u001b[31m╰─>\u001b[0m See above for output.\n",
      "  \u001b[31m   \u001b[0m \n",
      "  \u001b[31m   \u001b[0m \u001b[1;35mnote\u001b[0m: This is an issue with the package mentioned above, not pip.\n",
      "  \u001b[31m   \u001b[0m \u001b[1;36mhint\u001b[0m: See above for details.\n",
      "  \u001b[31m   \u001b[0m \u001b[31m[end of output]\u001b[0m\n",
      "  \n",
      "  \u001b[1;35mnote\u001b[0m: This error originates from a subprocess, and is likely not a problem with pip.\n",
      "\u001b[?25h\u001b[1;31merror\u001b[0m: \u001b[1msubprocess-exited-with-error\u001b[0m\n",
      "\n",
      "\u001b[31m×\u001b[0m \u001b[32mpip subprocess to install backend dependencies\u001b[0m did not run successfully.\n",
      "\u001b[31m│\u001b[0m exit code: \u001b[1;36m1\u001b[0m\n",
      "\u001b[31m╰─>\u001b[0m See above for output.\n",
      "\n",
      "\u001b[1;35mnote\u001b[0m: This error originates from a subprocess, and is likely not a problem with pip.\n"
     ]
    }
   ],
   "source": [
    "# Requirements\n",
    "!pip install --upgrade pip\n",
    "!pip install llama-index-core==0.10.50\n",
    "!pip install llama-index-readers-file==0.1.25\n",
    "!pip install llama-index-llms-nvidia==0.1.3\n",
    "!pip install llama-index-embeddings-nvidia==0.1.4\n",
    "!pip install llama-index-postprocessor-nvidia-rerank==0.1.2\n",
    "!pip install ipywidgets==8.1.3"
   ]
  },
  {
   "cell_type": "markdown",
   "id": "04495732-c2db-4c97-91d0-96708814334d",
   "metadata": {},
   "source": [
    "To get started you need a `NVIDIA_API_KEY` to use NVIDIA AI Foundation models:\n",
    "\n",
    "1) Create a free account with [NVIDIA](https://build.nvidia.com/explore/discover).\n",
    "2) Click on your model of choice.\n",
    "3) Under Input select the Python tab, and click **Get API Key** and then click **Generate Key**.\n",
    "4) Copy and save the generated key as NVIDIA_API_KEY. From there, you should have access to the endpoints."
   ]
  },
  {
   "cell_type": "code",
   "execution_count": 28,
   "id": "bbb51115-79f8-48c3-b3ee-d434916945f6",
   "metadata": {},
   "outputs": [],
   "source": [
    "import getpass\n",
    "import os\n",
    "\n",
    "if not os.environ.get(\"NVIDIA_API_KEY\", \"\").startswith(\"nvapi-\"):\n",
    "    nvidia_api_key = getpass.getpass(\"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\")\n",
    "    assert nvidia_api_key.startswith(\"nvapi-\"), f\"{nvidia_api_key[:5]}... is not a valid key\"\n",
    "    os.environ[\"NVIDIA_API_KEY\"] = nvidia_api_key"
   ]
  },
  {
   "cell_type": "markdown",
   "id": "25656ab5-0046-4e27-be65-b3d3d547b4c6",
   "metadata": {},
   "source": [
    "## RAG Example using LLM and Embedding"
   ]
  },
  {
   "cell_type": "markdown",
   "id": "54e86bc0-e9c5-4a2b-be0e-7fca0331e886",
   "metadata": {},
   "source": [
    "### 1) Initialize the LLM\n",
    "\n",
    "`llama-index-llms-nvidia`, also known as NVIDIA's LLM connector,\n",
    "allows your connect to and generate from compatible models available on the NVIDIA API catalog.\n",
    "\n",
    "Here we will use **mixtral-8x7b-instruct-v0.1** "
   ]
  },
  {
   "cell_type": "code",
   "execution_count": 29,
   "id": "75f7bdd3-2c6f-4ba2-bd89-175cedbf4f3b",
   "metadata": {},
   "outputs": [],
   "source": [
    "# Settings enables global configuration as a singleton object throughout your application.\n",
    "# Here, it is used to set the LLM, embedding model, and text splitter configurations globally.\n",
    "from llama_index.core import Settings\n",
    "from llama_index.llms.nvidia import NVIDIA\n",
    "\n",
    "# Here we are using mixtral-8x7b-instruct-v0.1 model from API Catalog\n",
    "Settings.llm = NVIDIA(model=\"mistralai/mixtral-8x7b-instruct-v0.1\")"
   ]
  },
  {
   "cell_type": "markdown",
   "id": "35cc87a6-2f83-4652-95f1-cf349db8bad6",
   "metadata": {},
   "source": [
    "### 2) Intiatlize the embedding\n",
    "\n",
    "We selected **NV-Embed-QA** as the embedding"
   ]
  },
  {
   "cell_type": "code",
   "execution_count": 30,
   "id": "d88f7838-b9f9-4fc5-8779-84df6cb26017",
   "metadata": {},
   "outputs": [],
   "source": [
    "from llama_index.embeddings.nvidia import NVIDIAEmbedding\n",
    "Settings.embed_model = NVIDIAEmbedding(model=\"NV-Embed-QA\", truncate=\"END\")"
   ]
  },
  {
   "cell_type": "markdown",
   "id": "b9862f2e-5055-4fe4-818d-708091243d74",
   "metadata": {},
   "source": [
    "### 3) Obtain some toy text dataset\n",
    "Here we are loading a toy data from a text documents and in real-time data can be loaded from various sources. "
   ]
  },
  {
   "cell_type": "markdown",
   "id": "851b16b3-43ac-4269-9f37-05a33efe24fb",
   "metadata": {},
   "source": [
    "Real world documents can be very long, this makes it hard to fit in the context window of many models. Even for those models that could fit the full post in their context window, models can struggle to find information in very long inputs.\n",
    "\n",
    "To handle this we’ll split the Document into chunks for embedding and vector storage."
   ]
  },
  {
   "cell_type": "code",
   "execution_count": 31,
   "id": "804c85f6-181b-4291-a685-d6b378015544",
   "metadata": {},
   "outputs": [],
   "source": [
    "# For this example we load a toy data set (it's a simple text file with some information about Sweden)\n",
    "TOY_DATA_PATH = \"./data/\"\n",
    "\n",
    "from llama_index.core.node_parser import SentenceSplitter\n",
    "from llama_index.core import SimpleDirectoryReader\n",
    "Settings.text_splitter = SentenceSplitter(chunk_size=400)\n",
    "documents = SimpleDirectoryReader(TOY_DATA_PATH).load_data()"
   ]
  },
  {
   "cell_type": "markdown",
   "id": "9b0a7da3-b6e7-46f1-9c31-3c6ef5f04d56",
   "metadata": {},
   "source": [
    "Note:\n",
    " - `SimpleDirectoryReader` takes care of storing basic file information such as the filename, filepath, and file type as metadata by default. This metadata can be used to keep track of the source file, allowing us to use it later for citation or metadata filtering."
   ]
  },
  {
   "cell_type": "markdown",
   "id": "f867df18-11c8-45ea-b81c-1603459431f9",
   "metadata": {},
   "source": [
    "### 4) Process the documents into VectorStoreIndex\n",
    "\n",
    "In RAG, your data is loaded and prepared for queries or \"indexed\". User queries act on the index, which filters your data down to the most relevant context. This context and your query then go to the LLM along with a prompt, and the LLM provides a response."
   ]
  },
  {
   "cell_type": "code",
   "execution_count": 32,
   "id": "2d7b2fbd-8cb1-4d68-9659-2426b9ecffe3",
   "metadata": {},
   "outputs": [],
   "source": [
    "from llama_index.core import VectorStoreIndex\n",
    "# When you use from_documents, your Documents are split into chunks and parsed into Node objects\n",
    "# By default, VectorStoreIndex stores everything in memory\n",
    "index = VectorStoreIndex.from_documents(documents)"
   ]
  },
  {
   "cell_type": "markdown",
   "id": "3fe85dad-12bb-47d2-a407-9b89b5270d4e",
   "metadata": {},
   "source": [
    "### 5) Create a Query Engine to ask question over your data"
   ]
  },
  {
   "cell_type": "code",
   "execution_count": 33,
   "id": "5de3e07d-5fbe-4fe7-8f23-ed0b082f2413",
   "metadata": {},
   "outputs": [],
   "source": [
    "# Returns a Query engine for this index.\n",
    "# If no LLM as input, this will automtically use Settings.embed_model as the LLM.\n",
    "query_engine = index.as_query_engine(similarity_top_k=10)"
   ]
  },
  {
   "cell_type": "code",
   "execution_count": 34,
   "id": "5aa362c9-48ab-4646-bc29-bc2aca92505d",
   "metadata": {},
   "outputs": [
    {
     "name": "stdout",
     "output_type": "stream",
     "text": [
      "In the Chinese article, rather than the \"Sword Lake World\" theme park, other competitors mentioned are various theme parks that utilize a one-ticket-all-inclusive pricing strategy, which makes it challenging for consumers to negotiate the price. However, no specific names of these theme parks are provided in the article.\n"
     ]
    }
   ],
   "source": [
    "response = query_engine.query(\n",
    "    \"In the chinese article, instead of 'Sword Lake World' theme park. What other competitors are mentioned in the article?\"\n",
    ")\n",
    "print(response)"
   ]
  },
  {
   "cell_type": "markdown",
   "id": "c29478b0-0fb1-4678-93cd-b159dc9884a7",
   "metadata": {},
   "source": [
    "## RAG Example with LLM, Embedding & Reranking"
   ]
  },
  {
   "cell_type": "code",
   "execution_count": 15,
   "id": "b88a91ed-5905-474e-8d8e-f5d887638a1d",
   "metadata": {},
   "outputs": [
    {
     "name": "stdout",
     "output_type": "stream",
     "text": [
      "I don't have information on a television service called \"Nordic Channel.\" The original answer suggests that it was a Swedish-language satellite service that was launched in 1989 and later became known as Kanal 5. However, I couldn't find any additional context or updates about this channel in relation to the new context provided.\n"
     ]
    }
   ],
   "source": [
    "# Let's test a more complex query using the above LLM Embedding query_engine and see if the reranker can help.\n",
    "response = query_engine.query(\n",
    "    \"What is Nordic Channel?\"\n",
    ")\n",
    "print(response)"
   ]
  },
  {
   "cell_type": "markdown",
   "id": "9d3854c7-68a3-45b4-9e69-2c4e583d651f",
   "metadata": {},
   "source": [
    "### Enhancing accuracy for single data sources\n",
    "\n",
    "This example demonstrates how a re-ranking model can be used to combine retrieval results and improve accuracy during retrieval of documents.\n",
    "\n",
    "Typically, reranking is a critical piece of high-accuracy, efficient retrieval pipelines. Generally, there are two important use cases:\n",
    "\n",
    "- Combining results from multiple data sources\n",
    "- Enhancing accuracy for single data sources\n",
    "\n",
    "Here, we focus on demonstrating only the second use case."
   ]
  },
  {
   "cell_type": "code",
   "execution_count": 42,
   "id": "b7e8677e-a37f-42e2-8fea-4c4413f7d682",
   "metadata": {},
   "outputs": [
    {
     "name": "stdout",
     "output_type": "stream",
     "text": [
      "I have five articles in the vector store, as can be inferred from the file paths provided in the context:\n",
      "\n",
      "1. /Users/leechiyuan/python/nvidia-llamaindex/data/eva-air-swot-analysis.txt (mentioned 4 times)\n",
      "2. https://reurl.cc/qrmWRy (TechNews科技新報, 2023)\n",
      "3. https://reurl.cc/krVRpq (長榮航空111年度年報, 2023)\n",
      "4. https://reurl.cc/mrqVzG (長榮航空, 2023)\n",
      "5. https://reurl.cc/D4vR5j (鏡周刊, 2023)\n",
      "\n",
      "Regarding your second question, I determine the article content based on the provided context and the specific query. I carefully extract and summarize the relevant information without directly referencing the context. This way, I can provide accurate and contextually appropriate answers to your questions.\n"
     ]
    }
   ],
   "source": [
    "# We will narrow the collection to 40 results and further narrow it to 4 with the reranker.\n",
    "from llama_index.postprocessor.nvidia_rerank import NVIDIARerank\n",
    "\n",
    "reranker_query_engine = index.as_query_engine(\n",
    "    similarity_top_k=40, node_postprocessors=[NVIDIARerank(top_n=5)]\n",
    ")\n",
    "\n",
    "response = reranker_query_engine.query(\n",
    "    \"How many articles you have in the vector store? and how do you know which article content that I am asking?\"\n",
    ")\n",
    "print(response)"
   ]
  },
  {
   "cell_type": "markdown",
   "id": "aa2c289d-b10f-4bad-bb55-edc779e544f4",
   "metadata": {},
   "source": [
    "#### Note:\n",
    " - In this notebook, we used NVIDIA NIM microservices from the NVIDIA API Catalog.\n",
    " - The above APIs, NVIDIA (llms), NVIDIAEmbedding, and NVIDIARerank, also support self-hosted microservices.\n",
    " - Change the `base_url` to your deployed NIM URL\n",
    " - Example: NVIDIA(model=\"meta/llama3-8b-instruct\", base_url=\"http://your-nim-host-address:8000/v1\")\n",
    " - NIM can be hosted locally using Docker, following the [NVIDIA NIM for LLMs](https://docs.nvidia.com/nim/large-language-models/latest/getting-started.html) documentation."
   ]
  },
  {
   "cell_type": "code",
   "execution_count": null,
   "id": "d6ea831a-76a5-431f-9b7f-f5bad5cb567b",
   "metadata": {},
   "outputs": [],
   "source": [
    "# Example Code snippet if you want to use a self-hosted NIM\n",
    "from llama_index.llms.nvidia import NVIDIA\n",
    "\n",
    "llm = NVIDIA(model=\"meta/llama3-8b-instruct\", base_url=\"http://your-nim-host-address:8000/v1\")"
   ]
  },
  {
   "cell_type": "code",
   "execution_count": 39,
   "id": "79a2fb99",
   "metadata": {},
   "outputs": [
    {
     "data": {
      "text/plain": [
       "\"In the chinese article, what is the 'Sword Lake World' ticket price? Could you list all of them?\""
      ]
     },
     "execution_count": 39,
     "metadata": {},
     "output_type": "execute_result"
    }
   ],
   "source": [
    "# Example questions\n",
    "\"In the chinese article, what is the 'Sword Lake World' ticket price? Could you list all of them?\"\n",
    "\"In the chinese article, instead of 'Sword Lake World' theme park. What other competitors are mentioned in the article?\""
   ]
  },
  {
   "cell_type": "code",
   "execution_count": 48,
   "id": "f7c347e6",
   "metadata": {},
   "outputs": [],
   "source": [
    "#from llama_index.core import VectorStoreIndex, SimpleDirectoryReader\n",
    "\n",
    "# Step 1: Load and embed the old documents\n",
    "#documents = SimpleDirectoryReader(\"path/to/old/documents\").load_data()\n",
    "#index = VectorStoreIndex.from_documents(documents)\n",
    "\n",
    "# Step 2: Load new documents\n",
    "new_documents = SimpleDirectoryReader(\"./new_data/\").load_data()\n",
    "\n",
    "# Step 3: Inser the new_documents in to the index.\n",
    "for new_doc in new_documents:\n",
    "    index.insert(new_doc)\n",
    "\n",
    "# The index now contains both old and new data\n"
   ]
  },
  {
   "cell_type": "code",
   "execution_count": 49,
   "id": "d72b8def",
   "metadata": {},
   "outputs": [
    {
     "name": "stdout",
     "output_type": "stream",
     "text": [
      "Yes, I can share some information about Tesla based on the provided context. Tesla recently unveiled two new self-driving cars that utilize their in-house FSD (Full Self Driving) technology. The first one to be showcased was the much-anticipated \"Robotaxi self-driving taxi,\" named \"Cybercab\" by Elon Musk. The second vehicle introduced was a 20-person capacity self-driving shuttle bus, the \"Robovan.\" Additionally, a group of next-generation Optimus intelligent robots made an appearance, demonstrating their abilities through dance performances and interacting with the event's attendees.\n",
      "\n",
      "Elon Musk, CEO of Tesla, personally rode in the Cybercab on his way to the stage, showcasing the vehicle's autonomous driving capabilities and its lack of a steering wheel or pedals. The Cybercab navigated through pre-set road scenarios, displaying the technology's prowess. Musk announced that the Cybercab's price would be below $30,000 (approximately 960,000 TWD) and shared plans to begin mass production in Tesla's California and Texas factories in 2026.\n",
      "\n",
      "The Robotaxi self-driving taxi concept was initially proposed by Elon Musk in 2016, and the fully electric version was announced in 2023, though the project faced delays. The final design is expected to undergo adjustments to meet relevant regulations and real-world road conditions.\n",
      "\n",
      "Please note that this information is based on the provided context and may not cover all aspects of Tesla's current or past initiatives.\n"
     ]
    }
   ],
   "source": [
    "# We will narrow the collection to 40 results and further narrow it to 4 with the reranker.\n",
    "from llama_index.postprocessor.nvidia_rerank import NVIDIARerank\n",
    "\n",
    "reranker_query_engine = index.as_query_engine(\n",
    "    similarity_top_k=40, node_postprocessors=[NVIDIARerank(top_n=5)]\n",
    ")\n",
    "\n",
    "response = reranker_query_engine.query(\n",
    "    \"do you have the information about the tesla?\"\n",
    ")\n",
    "print(response)"
   ]
  },
  {
   "cell_type": "code",
   "execution_count": null,
   "id": "93d7d5dc",
   "metadata": {},
   "outputs": [],
   "source": []
  }
 ],
 "metadata": {
  "kernelspec": {
   "display_name": "venv",
   "language": "python",
   "name": "python3"
  },
  "language_info": {
   "codemirror_mode": {
    "name": "ipython",
    "version": 3
   },
   "file_extension": ".py",
   "mimetype": "text/x-python",
   "name": "python",
   "nbconvert_exporter": "python",
   "pygments_lexer": "ipython3",
   "version": "3.9.18"
  }
 },
 "nbformat": 4,
 "nbformat_minor": 5
}
